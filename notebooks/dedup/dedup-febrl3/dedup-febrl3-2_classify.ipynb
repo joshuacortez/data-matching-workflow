{
 "cells": [
  {
   "cell_type": "code",
   "execution_count": 1,
   "metadata": {},
   "outputs": [],
   "source": [
    "%load_ext autoreload\n",
    "%autoreload 2\n",
    "import sys\n",
    "# do this to be able to import the custom python scripts\n",
    "sys.path.insert(1, \"../../../python_scripts\")\n",
    "import os\n",
    "\n",
    "import pandas as pd\n",
    "import numpy as np\n",
    "import matplotlib.pyplot as plt\n",
    "import seaborn as sns\n",
    "%matplotlib inline\n",
    "\n",
    "import dedupe \n",
    "\n",
    "import dm_diagnostics as dmd\n",
    "import dm_utils\n",
    "import dm_plots\n",
    "import dm_file_checker\n",
    "from sklearn.metrics import confusion_matrix, accuracy_score\n",
    "\n",
    "import json"
   ]
  },
  {
   "cell_type": "markdown",
   "metadata": {},
   "source": [
    "## Get Appropriate Filepaths"
   ]
  },
  {
   "cell_type": "code",
   "execution_count": 2,
   "metadata": {},
   "outputs": [
    {
     "name": "stdout",
     "output_type": "stream",
     "text": [
      "Numeric fields are []\n"
     ]
    }
   ],
   "source": [
    "saved_files_path = \"../../../saved_files\"\n",
    "task_name = os.path.basename(os.getcwd())\n",
    "dataset_name = task_name.split(\"-\")[1]\n",
    "    \n",
    "# files to be read in\n",
    "unlabeled_data_filepath = dm_file_checker.get_proper_unlabeled_data_filepath(task_name, saved_files_path)\n",
    "settings_filepath =  dm_file_checker.get_filepath(task_name, \"model_settings\", saved_files_path)\n",
    "labeled_data_filepath = dm_file_checker.get_filepath(task_name, \"labeled_data\", saved_files_path)\n",
    "blocks_filepath = dm_file_checker.get_filepath(task_name, \"blocks\", saved_files_path)\n",
    "\n",
    "# files to be written out as output\n",
    "model_weights_filepath = dm_file_checker.get_filepath(task_name, \"model_weights\", saved_files_path)\n",
    "mapped_records_filepath =  dm_file_checker.get_filepath(task_name, \"mapped_records\", saved_files_path)\n",
    "labeled_pair_ids_filepath =  dm_file_checker.get_filepath(task_name, \"labeled_pair_ids\", saved_files_path)\n",
    "cluster_canonical_filepath =  dm_file_checker.get_filepath(task_name, \"cluster_canonical\", saved_files_path)\n",
    "\n",
    "numeric_fields = dm_file_checker.get_dataset_info(task_name, \"numeric_fields\", saved_files_path)\n",
    "print(\"Numeric fields are {}\".format(numeric_fields))"
   ]
  },
  {
   "cell_type": "markdown",
   "metadata": {},
   "source": [
    "## Setup: Reading in Unlabeled Data, Labeled Data, and Trained Model"
   ]
  },
  {
   "cell_type": "code",
   "execution_count": 3,
   "metadata": {},
   "outputs": [
    {
     "name": "stdout",
     "output_type": "stream",
     "text": [
      "converting 190 empty string values of column date_of_birth to None\n",
      "converting 156 empty string values of column given_name to None\n",
      "converting 79 empty string values of column surname to None\n",
      "converting 245 empty string values of column street_number to None\n",
      "converting 154 empty string values of column address_1 to None\n",
      "converting 693 empty string values of column address_2 to None\n",
      "converting 85 empty string values of column suburb to None\n",
      "converting 0 empty string values of column postcode to None\n",
      "converting 85 empty string values of column state to None\n",
      "converting 0 empty string values of column soc_sec_id to None\n"
     ]
    },
    {
     "name": "stderr",
     "output_type": "stream",
     "text": [
      "INFO:dedupe.api:(SimplePredicate: (sameThreeCharStartPredicate, soc_sec_id), (SimplePredicate: (dayPredicate, date_of_birth), SimplePredicate: (hundredIntegersOddPredicate, postcode)), (SimplePredicate: (fingerprint, address_2), SimplePredicate: (fingerprint, given_name)), (SimplePredicate: (commonThreeTokens, address_1), SimplePredicate: (fingerprint, given_name)))\n"
     ]
    }
   ],
   "source": [
    "# reading in unlabeled_data\n",
    "unlabeled_data = dm_utils.read_unlabeled_data_json(unlabeled_data_filepath, numeric_fields = numeric_fields)\n",
    "\n",
    "# reading in trained model\n",
    "with open(settings_filepath, 'rb') as f:\n",
    "    deduper = dedupe.StaticDedupe(f)\n",
    "\n",
    "# reading in labeled data\n",
    "with open(labeled_data_filepath, \"r\") as json_file:\n",
    "    labeled_data = json.load(json_file)"
   ]
  },
  {
   "cell_type": "markdown",
   "metadata": {},
   "source": [
    "## Finding Record IDs of Labeled Data"
   ]
  },
  {
   "cell_type": "code",
   "execution_count": 4,
   "metadata": {},
   "outputs": [
    {
     "name": "stderr",
     "output_type": "stream",
     "text": [
      "\r",
      "  0%|          | 0/60 [00:00<?, ?it/s]"
     ]
    },
    {
     "name": "stdout",
     "output_type": "stream",
     "text": [
      "Finding ids for distinct pairs\n"
     ]
    },
    {
     "name": "stderr",
     "output_type": "stream",
     "text": [
      "100%|██████████| 60/60 [00:00<00:00, 235.28it/s]\n",
      " 44%|████▍     | 29/66 [00:00<00:00, 276.09it/s]"
     ]
    },
    {
     "name": "stdout",
     "output_type": "stream",
     "text": [
      "Finding ids for match pairs\n"
     ]
    },
    {
     "name": "stderr",
     "output_type": "stream",
     "text": [
      "100%|██████████| 66/66 [00:00<00:00, 242.79it/s]\n"
     ]
    },
    {
     "data": {
      "text/html": [
       "<div>\n",
       "<style scoped>\n",
       "    .dataframe tbody tr th:only-of-type {\n",
       "        vertical-align: middle;\n",
       "    }\n",
       "\n",
       "    .dataframe tbody tr th {\n",
       "        vertical-align: top;\n",
       "    }\n",
       "\n",
       "    .dataframe thead th {\n",
       "        text-align: right;\n",
       "    }\n",
       "</style>\n",
       "<table border=\"1\" class=\"dataframe\">\n",
       "  <thead>\n",
       "    <tr style=\"text-align: right;\">\n",
       "      <th></th>\n",
       "      <th>record id 1</th>\n",
       "      <th>record id 2</th>\n",
       "      <th>label</th>\n",
       "    </tr>\n",
       "  </thead>\n",
       "  <tbody>\n",
       "    <tr>\n",
       "      <th>0</th>\n",
       "      <td>febrl3-rec-1953-dup-3</td>\n",
       "      <td>febrl3-rec-1260-dup-0</td>\n",
       "      <td>distinct</td>\n",
       "    </tr>\n",
       "    <tr>\n",
       "      <th>1</th>\n",
       "      <td>febrl3-rec-1623-dup-2</td>\n",
       "      <td>febrl3-rec-669-dup-2</td>\n",
       "      <td>distinct</td>\n",
       "    </tr>\n",
       "    <tr>\n",
       "      <th>2</th>\n",
       "      <td>febrl3-rec-278-dup-1</td>\n",
       "      <td>febrl3-rec-1779-dup-0</td>\n",
       "      <td>distinct</td>\n",
       "    </tr>\n",
       "    <tr>\n",
       "      <th>3</th>\n",
       "      <td>febrl3-rec-1390-org</td>\n",
       "      <td>febrl3-rec-1029-dup-2</td>\n",
       "      <td>distinct</td>\n",
       "    </tr>\n",
       "    <tr>\n",
       "      <th>4</th>\n",
       "      <td>febrl3-rec-546-dup-3</td>\n",
       "      <td>febrl3-rec-1875-org</td>\n",
       "      <td>distinct</td>\n",
       "    </tr>\n",
       "    <tr>\n",
       "      <th>...</th>\n",
       "      <td>...</td>\n",
       "      <td>...</td>\n",
       "      <td>...</td>\n",
       "    </tr>\n",
       "    <tr>\n",
       "      <th>121</th>\n",
       "      <td>febrl3-rec-397-dup-1</td>\n",
       "      <td>febrl3-rec-397-dup-0</td>\n",
       "      <td>match</td>\n",
       "    </tr>\n",
       "    <tr>\n",
       "      <th>122</th>\n",
       "      <td>febrl3-rec-511-dup-2</td>\n",
       "      <td>febrl3-rec-511-dup-4</td>\n",
       "      <td>match</td>\n",
       "    </tr>\n",
       "    <tr>\n",
       "      <th>123</th>\n",
       "      <td>febrl3-rec-1953-dup-0</td>\n",
       "      <td>febrl3-rec-1953-dup-2</td>\n",
       "      <td>match</td>\n",
       "    </tr>\n",
       "    <tr>\n",
       "      <th>124</th>\n",
       "      <td>febrl3-rec-772-dup-1</td>\n",
       "      <td>febrl3-rec-772-dup-2</td>\n",
       "      <td>match</td>\n",
       "    </tr>\n",
       "    <tr>\n",
       "      <th>125</th>\n",
       "      <td>febrl3-rec-941-dup-3</td>\n",
       "      <td>febrl3-rec-941-dup-4</td>\n",
       "      <td>match</td>\n",
       "    </tr>\n",
       "  </tbody>\n",
       "</table>\n",
       "<p>126 rows × 3 columns</p>\n",
       "</div>"
      ],
      "text/plain": [
       "               record id 1            record id 2     label\n",
       "0    febrl3-rec-1953-dup-3  febrl3-rec-1260-dup-0  distinct\n",
       "1    febrl3-rec-1623-dup-2   febrl3-rec-669-dup-2  distinct\n",
       "2     febrl3-rec-278-dup-1  febrl3-rec-1779-dup-0  distinct\n",
       "3      febrl3-rec-1390-org  febrl3-rec-1029-dup-2  distinct\n",
       "4     febrl3-rec-546-dup-3    febrl3-rec-1875-org  distinct\n",
       "..                     ...                    ...       ...\n",
       "121   febrl3-rec-397-dup-1   febrl3-rec-397-dup-0     match\n",
       "122   febrl3-rec-511-dup-2   febrl3-rec-511-dup-4     match\n",
       "123  febrl3-rec-1953-dup-0  febrl3-rec-1953-dup-2     match\n",
       "124   febrl3-rec-772-dup-1   febrl3-rec-772-dup-2     match\n",
       "125   febrl3-rec-941-dup-3   febrl3-rec-941-dup-4     match\n",
       "\n",
       "[126 rows x 3 columns]"
      ]
     },
     "execution_count": 4,
     "metadata": {},
     "output_type": "execute_result"
    }
   ],
   "source": [
    "labeled_pairs_df = dm_utils.find_ids_of_labeled_data(labeled_data, unlabeled_data)\n",
    "labeled_pairs_df.to_csv(labeled_pair_ids_filepath, index = False, encoding = \"utf-8\")\n",
    "labeled_pairs_df"
   ]
  },
  {
   "cell_type": "markdown",
   "metadata": {},
   "source": [
    "## Predicates for Indexing/Blocking"
   ]
  },
  {
   "cell_type": "code",
   "execution_count": 5,
   "metadata": {},
   "outputs": [
    {
     "data": {
      "text/plain": [
       "(SimplePredicate: (sameThreeCharStartPredicate, soc_sec_id),\n",
       " (SimplePredicate: (dayPredicate, date_of_birth),\n",
       "  SimplePredicate: (hundredIntegersOddPredicate, postcode)),\n",
       " (SimplePredicate: (fingerprint, address_2),\n",
       "  SimplePredicate: (fingerprint, given_name)),\n",
       " (SimplePredicate: (commonThreeTokens, address_1),\n",
       "  SimplePredicate: (fingerprint, given_name)))"
      ]
     },
     "execution_count": 5,
     "metadata": {},
     "output_type": "execute_result"
    }
   ],
   "source": [
    "deduper.predicates"
   ]
  },
  {
   "cell_type": "markdown",
   "metadata": {},
   "source": [
    "## Model Weights"
   ]
  },
  {
   "cell_type": "code",
   "execution_count": 6,
   "metadata": {
    "scrolled": true
   },
   "outputs": [
    {
     "data": {
      "text/html": [
       "<div>\n",
       "<style scoped>\n",
       "    .dataframe tbody tr th:only-of-type {\n",
       "        vertical-align: middle;\n",
       "    }\n",
       "\n",
       "    .dataframe tbody tr th {\n",
       "        vertical-align: top;\n",
       "    }\n",
       "\n",
       "    .dataframe thead th {\n",
       "        text-align: right;\n",
       "    }\n",
       "</style>\n",
       "<table border=\"1\" class=\"dataframe\">\n",
       "  <thead>\n",
       "    <tr style=\"text-align: right;\">\n",
       "      <th></th>\n",
       "      <th>variable</th>\n",
       "      <th>logistic_reg_weight</th>\n",
       "    </tr>\n",
       "  </thead>\n",
       "  <tbody>\n",
       "    <tr>\n",
       "      <th>0</th>\n",
       "      <td>(postcode: ShortString)</td>\n",
       "      <td>-4.044692</td>\n",
       "    </tr>\n",
       "    <tr>\n",
       "      <th>1</th>\n",
       "      <td>(soc_sec_id: ShortString)</td>\n",
       "      <td>-3.786045</td>\n",
       "    </tr>\n",
       "    <tr>\n",
       "      <th>2</th>\n",
       "      <td>(address_1: String)</td>\n",
       "      <td>-3.398163</td>\n",
       "    </tr>\n",
       "    <tr>\n",
       "      <th>3</th>\n",
       "      <td>(given_name: String)</td>\n",
       "      <td>-2.999825</td>\n",
       "    </tr>\n",
       "    <tr>\n",
       "      <th>4</th>\n",
       "      <td>(street_number: ShortString)</td>\n",
       "      <td>-2.274838</td>\n",
       "    </tr>\n",
       "    <tr>\n",
       "      <th>5</th>\n",
       "      <td>(suburb: String)</td>\n",
       "      <td>-2.221105</td>\n",
       "    </tr>\n",
       "    <tr>\n",
       "      <th>6</th>\n",
       "      <td>(surname: String)</td>\n",
       "      <td>-1.706562</td>\n",
       "    </tr>\n",
       "    <tr>\n",
       "      <th>7</th>\n",
       "      <td>(state: ShortString)</td>\n",
       "      <td>-1.347700</td>\n",
       "    </tr>\n",
       "    <tr>\n",
       "      <th>8</th>\n",
       "      <td>(days: Derived)</td>\n",
       "      <td>-0.088926</td>\n",
       "    </tr>\n",
       "    <tr>\n",
       "      <th>9</th>\n",
       "      <td>(seconds: Dummy)</td>\n",
       "      <td>0.010516</td>\n",
       "    </tr>\n",
       "    <tr>\n",
       "      <th>10</th>\n",
       "      <td>(months: Dummy)</td>\n",
       "      <td>0.010516</td>\n",
       "    </tr>\n",
       "    <tr>\n",
       "      <th>11</th>\n",
       "      <td>(years: Dummy)</td>\n",
       "      <td>0.010516</td>\n",
       "    </tr>\n",
       "    <tr>\n",
       "      <th>12</th>\n",
       "      <td>(seconds: Derived)</td>\n",
       "      <td>0.010516</td>\n",
       "    </tr>\n",
       "    <tr>\n",
       "      <th>13</th>\n",
       "      <td>(months: Derived)</td>\n",
       "      <td>0.010516</td>\n",
       "    </tr>\n",
       "    <tr>\n",
       "      <th>14</th>\n",
       "      <td>(years: Derived)</td>\n",
       "      <td>0.010516</td>\n",
       "    </tr>\n",
       "    <tr>\n",
       "      <th>15</th>\n",
       "      <td>(full string: Derived)</td>\n",
       "      <td>0.010516</td>\n",
       "    </tr>\n",
       "    <tr>\n",
       "      <th>16</th>\n",
       "      <td>(address_2: String)</td>\n",
       "      <td>0.759378</td>\n",
       "    </tr>\n",
       "    <tr>\n",
       "      <th>17</th>\n",
       "      <td>((surname: String): Not Missing)</td>\n",
       "      <td>0.779073</td>\n",
       "    </tr>\n",
       "    <tr>\n",
       "      <th>18</th>\n",
       "      <td>((state: ShortString): Not Missing)</td>\n",
       "      <td>1.594085</td>\n",
       "    </tr>\n",
       "    <tr>\n",
       "      <th>19</th>\n",
       "      <td>(date_of_birth: Not Missing: Dummy)</td>\n",
       "      <td>1.717338</td>\n",
       "    </tr>\n",
       "    <tr>\n",
       "      <th>20</th>\n",
       "      <td>(days: Dummy)</td>\n",
       "      <td>1.717338</td>\n",
       "    </tr>\n",
       "    <tr>\n",
       "      <th>21</th>\n",
       "      <td>((given_name: String): Not Missing)</td>\n",
       "      <td>1.842839</td>\n",
       "    </tr>\n",
       "    <tr>\n",
       "      <th>22</th>\n",
       "      <td>((address_1: String): Not Missing)</td>\n",
       "      <td>2.618836</td>\n",
       "    </tr>\n",
       "    <tr>\n",
       "      <th>23</th>\n",
       "      <td>((street_number: ShortString): Not Missing)</td>\n",
       "      <td>3.128395</td>\n",
       "    </tr>\n",
       "    <tr>\n",
       "      <th>24</th>\n",
       "      <td>((suburb: String): Not Missing)</td>\n",
       "      <td>3.154451</td>\n",
       "    </tr>\n",
       "    <tr>\n",
       "      <th>25</th>\n",
       "      <td>((address_2: String): Not Missing)</td>\n",
       "      <td>4.178257</td>\n",
       "    </tr>\n",
       "  </tbody>\n",
       "</table>\n",
       "</div>"
      ],
      "text/plain": [
       "                                       variable  logistic_reg_weight\n",
       "0                       (postcode: ShortString)            -4.044692\n",
       "1                     (soc_sec_id: ShortString)            -3.786045\n",
       "2                           (address_1: String)            -3.398163\n",
       "3                          (given_name: String)            -2.999825\n",
       "4                  (street_number: ShortString)            -2.274838\n",
       "5                              (suburb: String)            -2.221105\n",
       "6                             (surname: String)            -1.706562\n",
       "7                          (state: ShortString)            -1.347700\n",
       "8                               (days: Derived)            -0.088926\n",
       "9                              (seconds: Dummy)             0.010516\n",
       "10                              (months: Dummy)             0.010516\n",
       "11                               (years: Dummy)             0.010516\n",
       "12                           (seconds: Derived)             0.010516\n",
       "13                            (months: Derived)             0.010516\n",
       "14                             (years: Derived)             0.010516\n",
       "15                       (full string: Derived)             0.010516\n",
       "16                          (address_2: String)             0.759378\n",
       "17             ((surname: String): Not Missing)             0.779073\n",
       "18          ((state: ShortString): Not Missing)             1.594085\n",
       "19          (date_of_birth: Not Missing: Dummy)             1.717338\n",
       "20                                (days: Dummy)             1.717338\n",
       "21          ((given_name: String): Not Missing)             1.842839\n",
       "22           ((address_1: String): Not Missing)             2.618836\n",
       "23  ((street_number: ShortString): Not Missing)             3.128395\n",
       "24              ((suburb: String): Not Missing)             3.154451\n",
       "25           ((address_2: String): Not Missing)             4.178257"
      ]
     },
     "execution_count": 6,
     "metadata": {},
     "output_type": "execute_result"
    }
   ],
   "source": [
    "# checking model weights\n",
    "model_weights = dm_utils.get_model_weights(deduper)\n",
    "model_weights.to_csv(model_weights_filepath, index = False, encoding = \"utf-8\")\n",
    "model_weights"
   ]
  },
  {
   "cell_type": "markdown",
   "metadata": {},
   "source": [
    "## Thresholding\n",
    "- Includes diagnostic plots to justify and explain the threshold"
   ]
  },
  {
   "cell_type": "code",
   "execution_count": 7,
   "metadata": {},
   "outputs": [
    {
     "name": "stdout",
     "output_type": "stream",
     "text": [
      "Maximum expected recall and precision\n",
      "recall: 99.88%\n",
      "precision: 99.89%\n",
      "With threshold: 50.76%\n",
      "CPU times: user 532 ms, sys: 71.3 ms, total: 603 ms\n",
      "Wall time: 17.3 s\n"
     ]
    }
   ],
   "source": [
    "%%time\n",
    "# Find the threshold that will maximize a weighted average of our\n",
    "# precision and recall.  When we set the recall weight to 2, we are\n",
    "# saying we care twice as much about recall as we do precision.\n",
    "#\n",
    "# If we had more data, we would not pass in all the blocked data into\n",
    "# this function but a representative sample.\n",
    "\n",
    "blocked_data = dm_utils.read_deduper_blocks(unlabeled_data, blocks_filepath)\n",
    "probs, threshold = dm_utils.get_deduper_probs_and_threshold(deduper, unlabeled_data, \n",
    "                                                            blocked_data = blocked_data, recall_weight=1)"
   ]
  },
  {
   "cell_type": "code",
   "execution_count": 8,
   "metadata": {},
   "outputs": [
    {
     "data": {
      "image/png": "[encoded data removed]",
      "text/plain": [
       "<Figure size 504x360 with 1 Axes>"
      ]
     },
     "metadata": {
      "needs_background": "light"
     },
     "output_type": "display_data"
    }
   ],
   "source": [
    "dm_plots.plot_prob_histogram(probs,threshold)"
   ]
  },
  {
   "cell_type": "code",
   "execution_count": 9,
   "metadata": {},
   "outputs": [
    {
     "data": {
      "image/png": "[encoded data removed]",
      "text/plain": [
       "<Figure size 504x360 with 1 Axes>"
      ]
     },
     "metadata": {
      "needs_background": "light"
     },
     "output_type": "display_data"
    },
    {
     "data": {
      "image/png": "[encoded data removed]",
      "text/plain": [
       "<Figure size 504x360 with 1 Axes>"
      ]
     },
     "metadata": {
      "needs_background": "light"
     },
     "output_type": "display_data"
    }
   ],
   "source": [
    "dm_plots.plot_threshold_finder_curves(probs,threshold,recall_weight = 1)"
   ]
  },
  {
   "cell_type": "markdown",
   "metadata": {},
   "source": [
    "## Clustering and Canonicalization"
   ]
  },
  {
   "cell_type": "code",
   "execution_count": 10,
   "metadata": {},
   "outputs": [
    {
     "name": "stderr",
     "output_type": "stream",
     "text": [
      "1it [00:00,  7.20it/s]"
     ]
    },
    {
     "name": "stdout",
     "output_type": "stream",
     "text": [
      "Mapping cluster ids...\n"
     ]
    },
    {
     "name": "stderr",
     "output_type": "stream",
     "text": [
      "1170it [00:01, 1053.91it/s]\n",
      "100%|██████████| 864/864 [00:00<00:00, 189305.68it/s]\n"
     ]
    },
    {
     "name": "stdout",
     "output_type": "stream",
     "text": [
      "Mapping solo record ids...\n",
      "CPU times: user 1.64 s, sys: 87.2 ms, total: 1.73 s\n",
      "Wall time: 15.8 s\n"
     ]
    }
   ],
   "source": [
    "%%time\n",
    "blocked_data = dm_utils.read_deduper_blocks(unlabeled_data, blocks_filepath)\n",
    "#blocked_data = None\n",
    "mapped_records_df, canonicals_df = dm_utils.map_cluster_ids(deduper, unlabeled_data, threshold, \n",
    "                                                            blocked_data = blocked_data, numeric_fields = numeric_fields,\n",
    "                                                           cluster_id_tag = dataset_name)\n",
    "\n",
    "mapped_records_df.to_csv(mapped_records_filepath, index = False, encoding = \"utf-8\")\n",
    "canonicals_df.to_csv(cluster_canonical_filepath, index = False, encoding = \"utf-8\")"
   ]
  },
  {
   "cell_type": "code",
   "execution_count": 11,
   "metadata": {},
   "outputs": [
    {
     "data": {
      "image/png": "[encoded data removed]",
      "text/plain": [
       "<Figure size 432x288 with 1 Axes>"
      ]
     },
     "metadata": {
      "needs_background": "light"
     },
     "output_type": "display_data"
    }
   ],
   "source": [
    "mapped_records_df[\"confidence score\"].hist(bins = 40)\n",
    "plt.show()"
   ]
  },
  {
   "cell_type": "code",
   "execution_count": 12,
   "metadata": {},
   "outputs": [
    {
     "data": {
      "text/html": [
       "<div>\n",
       "<style scoped>\n",
       "    .dataframe tbody tr th:only-of-type {\n",
       "        vertical-align: middle;\n",
       "    }\n",
       "\n",
       "    .dataframe tbody tr th {\n",
       "        vertical-align: top;\n",
       "    }\n",
       "\n",
       "    .dataframe thead th {\n",
       "        text-align: right;\n",
       "    }\n",
       "</style>\n",
       "<table border=\"1\" class=\"dataframe\">\n",
       "  <thead>\n",
       "    <tr style=\"text-align: right;\">\n",
       "      <th></th>\n",
       "      <th>date_of_birth</th>\n",
       "      <th>given_name</th>\n",
       "      <th>surname</th>\n",
       "      <th>street_number</th>\n",
       "      <th>address_1</th>\n",
       "      <th>address_2</th>\n",
       "      <th>suburb</th>\n",
       "      <th>postcode</th>\n",
       "      <th>state</th>\n",
       "      <th>soc_sec_id</th>\n",
       "      <th>cluster id</th>\n",
       "    </tr>\n",
       "  </thead>\n",
       "  <tbody>\n",
       "    <tr>\n",
       "      <th>0</th>\n",
       "      <td>1963/05/03</td>\n",
       "      <td>chloe</td>\n",
       "      <td>wasley</td>\n",
       "      <td>148</td>\n",
       "      <td>mclachlan crescent</td>\n",
       "      <td>merri banks</td>\n",
       "      <td>upper coomera</td>\n",
       "      <td>6148</td>\n",
       "      <td>qld</td>\n",
       "      <td>5068158</td>\n",
       "      <td>febrl3-cl-1</td>\n",
       "    </tr>\n",
       "    <tr>\n",
       "      <th>1</th>\n",
       "      <td>1930/04/07</td>\n",
       "      <td>cheree</td>\n",
       "      <td>purtell</td>\n",
       "      <td>1</td>\n",
       "      <td>spring range road</td>\n",
       "      <td>guest village cnr bullcreek d drive</td>\n",
       "      <td>cooma</td>\n",
       "      <td>4216</td>\n",
       "      <td>wa</td>\n",
       "      <td>5062347</td>\n",
       "      <td>febrl3-cl-2</td>\n",
       "    </tr>\n",
       "    <tr>\n",
       "      <th>2</th>\n",
       "      <td></td>\n",
       "      <td>tanar</td>\n",
       "      <td>george</td>\n",
       "      <td>77</td>\n",
       "      <td>britten jones drive</td>\n",
       "      <td>roskhil</td>\n",
       "      <td>torquay</td>\n",
       "      <td>0331</td>\n",
       "      <td>nsw</td>\n",
       "      <td>5067972</td>\n",
       "      <td>febrl3-cl-3</td>\n",
       "    </tr>\n",
       "    <tr>\n",
       "      <th>3</th>\n",
       "      <td>1958/06/05</td>\n",
       "      <td>emma</td>\n",
       "      <td>munyarryun</td>\n",
       "      <td>64</td>\n",
       "      <td>warner p lace</td>\n",
       "      <td>lot nq</td>\n",
       "      <td>dromana</td>\n",
       "      <td>5052</td>\n",
       "      <td>nsw</td>\n",
       "      <td>9443774</td>\n",
       "      <td>febrl3-cl-4</td>\n",
       "    </tr>\n",
       "    <tr>\n",
       "      <th>4</th>\n",
       "      <td>1935/05/13</td>\n",
       "      <td>benjamih</td>\n",
       "      <td>foottit</td>\n",
       "      <td>10</td>\n",
       "      <td>macrobertson street</td>\n",
       "      <td>bowan brae</td>\n",
       "      <td>nunawading</td>\n",
       "      <td>4814</td>\n",
       "      <td>vic</td>\n",
       "      <td>9447822</td>\n",
       "      <td>febrl3-cl-5</td>\n",
       "    </tr>\n",
       "  </tbody>\n",
       "</table>\n",
       "</div>"
      ],
      "text/plain": [
       "  date_of_birth given_name     surname street_number            address_1  \\\n",
       "0    1963/05/03      chloe      wasley           148   mclachlan crescent   \n",
       "1    1930/04/07     cheree     purtell             1    spring range road   \n",
       "2                    tanar      george            77  britten jones drive   \n",
       "3    1958/06/05       emma  munyarryun            64        warner p lace   \n",
       "4    1935/05/13   benjamih     foottit            10  macrobertson street   \n",
       "\n",
       "                             address_2         suburb postcode state  \\\n",
       "0                          merri banks  upper coomera     6148   qld   \n",
       "1  guest village cnr bullcreek d drive          cooma     4216    wa   \n",
       "2                              roskhil        torquay     0331   nsw   \n",
       "3                               lot nq        dromana     5052   nsw   \n",
       "4                           bowan brae     nunawading     4814   vic   \n",
       "\n",
       "  soc_sec_id   cluster id  \n",
       "0    5068158  febrl3-cl-1  \n",
       "1    5062347  febrl3-cl-2  \n",
       "2    5067972  febrl3-cl-3  \n",
       "3    9443774  febrl3-cl-4  \n",
       "4    9447822  febrl3-cl-5  "
      ]
     },
     "execution_count": 12,
     "metadata": {},
     "output_type": "execute_result"
    }
   ],
   "source": [
    "canonicals_df.head()"
   ]
  },
  {
   "cell_type": "markdown",
   "metadata": {},
   "source": [
    "## Labeled Data Verifier"
   ]
  },
  {
   "cell_type": "code",
   "execution_count": 13,
   "metadata": {},
   "outputs": [
    {
     "data": {
      "text/html": [
       "<div>\n",
       "<style scoped>\n",
       "    .dataframe tbody tr th:only-of-type {\n",
       "        vertical-align: middle;\n",
       "    }\n",
       "\n",
       "    .dataframe tbody tr th {\n",
       "        vertical-align: top;\n",
       "    }\n",
       "\n",
       "    .dataframe thead th {\n",
       "        text-align: right;\n",
       "    }\n",
       "</style>\n",
       "<table border=\"1\" class=\"dataframe\">\n",
       "  <thead>\n",
       "    <tr style=\"text-align: right;\">\n",
       "      <th></th>\n",
       "      <th></th>\n",
       "      <th>label</th>\n",
       "      <th>address_1_1</th>\n",
       "      <th>address_1_2</th>\n",
       "      <th>address_2_1</th>\n",
       "      <th>address_2_2</th>\n",
       "      <th>date_of_birth_1</th>\n",
       "      <th>date_of_birth_2</th>\n",
       "      <th>given_name_1</th>\n",
       "      <th>given_name_2</th>\n",
       "      <th>postcode_1</th>\n",
       "      <th>...</th>\n",
       "      <th>soc_sec_id_1</th>\n",
       "      <th>soc_sec_id_2</th>\n",
       "      <th>state_1</th>\n",
       "      <th>state_2</th>\n",
       "      <th>street_number_1</th>\n",
       "      <th>street_number_2</th>\n",
       "      <th>suburb_1</th>\n",
       "      <th>suburb_2</th>\n",
       "      <th>surname_1</th>\n",
       "      <th>surname_2</th>\n",
       "    </tr>\n",
       "    <tr>\n",
       "      <th>record id 1</th>\n",
       "      <th>record id 2</th>\n",
       "      <th></th>\n",
       "      <th></th>\n",
       "      <th></th>\n",
       "      <th></th>\n",
       "      <th></th>\n",
       "      <th></th>\n",
       "      <th></th>\n",
       "      <th></th>\n",
       "      <th></th>\n",
       "      <th></th>\n",
       "      <th></th>\n",
       "      <th></th>\n",
       "      <th></th>\n",
       "      <th></th>\n",
       "      <th></th>\n",
       "      <th></th>\n",
       "      <th></th>\n",
       "      <th></th>\n",
       "      <th></th>\n",
       "      <th></th>\n",
       "      <th></th>\n",
       "    </tr>\n",
       "  </thead>\n",
       "  <tbody>\n",
       "    <tr>\n",
       "      <th>febrl3-rec-1953-dup-3</th>\n",
       "      <th>febrl3-rec-1260-dup-0</th>\n",
       "      <td>distinct</td>\n",
       "      <td>lance hill avenue</td>\n",
       "      <td>lancehill avenue</td>\n",
       "      <td>cameroo</td>\n",
       "      <td>kittani</td>\n",
       "      <td>1972/06/15</td>\n",
       "      <td>1986/11/16</td>\n",
       "      <td>ryan</td>\n",
       "      <td>connor</td>\n",
       "      <td>3070</td>\n",
       "      <td>...</td>\n",
       "      <td>7563426</td>\n",
       "      <td>1825598</td>\n",
       "      <td>nsw</td>\n",
       "      <td>nsw</td>\n",
       "      <td>26</td>\n",
       "      <td>19</td>\n",
       "      <td>forest hill</td>\n",
       "      <td>sale</td>\n",
       "      <td>joel</td>\n",
       "      <td>nguyen</td>\n",
       "    </tr>\n",
       "    <tr>\n",
       "      <th>febrl3-rec-1623-dup-2</th>\n",
       "      <th>febrl3-rec-669-dup-2</th>\n",
       "      <td>distinct</td>\n",
       "      <td>neumayer street</td>\n",
       "      <td>bonney tsreet</td>\n",
       "      <td>riverland ivllage</td>\n",
       "      <td>None</td>\n",
       "      <td>1999/03/13</td>\n",
       "      <td>1916/11/28</td>\n",
       "      <td>None</td>\n",
       "      <td>hamish</td>\n",
       "      <td>2452</td>\n",
       "      <td>...</td>\n",
       "      <td>1420240</td>\n",
       "      <td>8439607</td>\n",
       "      <td>nsw</td>\n",
       "      <td>nsw</td>\n",
       "      <td>12</td>\n",
       "      <td>33</td>\n",
       "      <td>propect</td>\n",
       "      <td>adamstown</td>\n",
       "      <td>de paoli</td>\n",
       "      <td>ryan</td>\n",
       "    </tr>\n",
       "    <tr>\n",
       "      <th>febrl3-rec-278-dup-1</th>\n",
       "      <th>febrl3-rec-1779-dup-0</th>\n",
       "      <td>distinct</td>\n",
       "      <td>garratt fstreet</td>\n",
       "      <td>waitestreet</td>\n",
       "      <td>braeburn</td>\n",
       "      <td>None</td>\n",
       "      <td>1971/03/27</td>\n",
       "      <td>1970/04/30</td>\n",
       "      <td>helena</td>\n",
       "      <td>cameron</td>\n",
       "      <td>2020</td>\n",
       "      <td>...</td>\n",
       "      <td>2510937</td>\n",
       "      <td>5765191</td>\n",
       "      <td>vic</td>\n",
       "      <td>nsw</td>\n",
       "      <td>12</td>\n",
       "      <td>12</td>\n",
       "      <td>asplye</td>\n",
       "      <td>colac</td>\n",
       "      <td>ebert</td>\n",
       "      <td>cordingley</td>\n",
       "    </tr>\n",
       "    <tr>\n",
       "      <th>febrl3-rec-1390-org</th>\n",
       "      <th>febrl3-rec-1029-dup-2</th>\n",
       "      <td>distinct</td>\n",
       "      <td>burrowes place</td>\n",
       "      <td>rose scott circuit</td>\n",
       "      <td>elston</td>\n",
       "      <td>cordoba manor</td>\n",
       "      <td>1946/10/22</td>\n",
       "      <td>1946/11/01</td>\n",
       "      <td>erin</td>\n",
       "      <td>annalise</td>\n",
       "      <td>4721</td>\n",
       "      <td>...</td>\n",
       "      <td>7298611</td>\n",
       "      <td>4783085</td>\n",
       "      <td>vic</td>\n",
       "      <td>vic</td>\n",
       "      <td>24</td>\n",
       "      <td>81</td>\n",
       "      <td>creswick</td>\n",
       "      <td>ashfoeld</td>\n",
       "      <td>birchby</td>\n",
       "      <td>stephenson</td>\n",
       "    </tr>\n",
       "    <tr>\n",
       "      <th>febrl3-rec-546-dup-3</th>\n",
       "      <th>febrl3-rec-1875-org</th>\n",
       "      <td>distinct</td>\n",
       "      <td>macfarland crescent</td>\n",
       "      <td>prout place</td>\n",
       "      <td>tulla burra</td>\n",
       "      <td>rich meadows</td>\n",
       "      <td>1981/03/20</td>\n",
       "      <td>None</td>\n",
       "      <td>geo rge</td>\n",
       "      <td>kadin</td>\n",
       "      <td>4019</td>\n",
       "      <td>...</td>\n",
       "      <td>5959224</td>\n",
       "      <td>3783878</td>\n",
       "      <td>vic</td>\n",
       "      <td>wa</td>\n",
       "      <td>None</td>\n",
       "      <td>20</td>\n",
       "      <td>springfield</td>\n",
       "      <td>aspley</td>\n",
       "      <td>artis</td>\n",
       "      <td>millar</td>\n",
       "    </tr>\n",
       "  </tbody>\n",
       "</table>\n",
       "<p>5 rows × 21 columns</p>\n",
       "</div>"
      ],
      "text/plain": [
       "                                                label          address_1_1  \\\n",
       "record id 1           record id 2                                            \n",
       "febrl3-rec-1953-dup-3 febrl3-rec-1260-dup-0  distinct    lance hill avenue   \n",
       "febrl3-rec-1623-dup-2 febrl3-rec-669-dup-2   distinct      neumayer street   \n",
       "febrl3-rec-278-dup-1  febrl3-rec-1779-dup-0  distinct      garratt fstreet   \n",
       "febrl3-rec-1390-org   febrl3-rec-1029-dup-2  distinct       burrowes place   \n",
       "febrl3-rec-546-dup-3  febrl3-rec-1875-org    distinct  macfarland crescent   \n",
       "\n",
       "                                                    address_1_2  \\\n",
       "record id 1           record id 2                                 \n",
       "febrl3-rec-1953-dup-3 febrl3-rec-1260-dup-0    lancehill avenue   \n",
       "febrl3-rec-1623-dup-2 febrl3-rec-669-dup-2        bonney tsreet   \n",
       "febrl3-rec-278-dup-1  febrl3-rec-1779-dup-0         waitestreet   \n",
       "febrl3-rec-1390-org   febrl3-rec-1029-dup-2  rose scott circuit   \n",
       "febrl3-rec-546-dup-3  febrl3-rec-1875-org           prout place   \n",
       "\n",
       "                                                   address_2_1    address_2_2  \\\n",
       "record id 1           record id 2                                               \n",
       "febrl3-rec-1953-dup-3 febrl3-rec-1260-dup-0            cameroo        kittani   \n",
       "febrl3-rec-1623-dup-2 febrl3-rec-669-dup-2   riverland ivllage           None   \n",
       "febrl3-rec-278-dup-1  febrl3-rec-1779-dup-0           braeburn           None   \n",
       "febrl3-rec-1390-org   febrl3-rec-1029-dup-2             elston  cordoba manor   \n",
       "febrl3-rec-546-dup-3  febrl3-rec-1875-org          tulla burra   rich meadows   \n",
       "\n",
       "                                            date_of_birth_1 date_of_birth_2  \\\n",
       "record id 1           record id 2                                             \n",
       "febrl3-rec-1953-dup-3 febrl3-rec-1260-dup-0      1972/06/15      1986/11/16   \n",
       "febrl3-rec-1623-dup-2 febrl3-rec-669-dup-2       1999/03/13      1916/11/28   \n",
       "febrl3-rec-278-dup-1  febrl3-rec-1779-dup-0      1971/03/27      1970/04/30   \n",
       "febrl3-rec-1390-org   febrl3-rec-1029-dup-2      1946/10/22      1946/11/01   \n",
       "febrl3-rec-546-dup-3  febrl3-rec-1875-org        1981/03/20            None   \n",
       "\n",
       "                                            given_name_1 given_name_2  \\\n",
       "record id 1           record id 2                                       \n",
       "febrl3-rec-1953-dup-3 febrl3-rec-1260-dup-0         ryan       connor   \n",
       "febrl3-rec-1623-dup-2 febrl3-rec-669-dup-2          None       hamish   \n",
       "febrl3-rec-278-dup-1  febrl3-rec-1779-dup-0       helena      cameron   \n",
       "febrl3-rec-1390-org   febrl3-rec-1029-dup-2         erin     annalise   \n",
       "febrl3-rec-546-dup-3  febrl3-rec-1875-org        geo rge        kadin   \n",
       "\n",
       "                                            postcode_1  ... soc_sec_id_1  \\\n",
       "record id 1           record id 2                       ...                \n",
       "febrl3-rec-1953-dup-3 febrl3-rec-1260-dup-0       3070  ...      7563426   \n",
       "febrl3-rec-1623-dup-2 febrl3-rec-669-dup-2        2452  ...      1420240   \n",
       "febrl3-rec-278-dup-1  febrl3-rec-1779-dup-0       2020  ...      2510937   \n",
       "febrl3-rec-1390-org   febrl3-rec-1029-dup-2       4721  ...      7298611   \n",
       "febrl3-rec-546-dup-3  febrl3-rec-1875-org         4019  ...      5959224   \n",
       "\n",
       "                                            soc_sec_id_2 state_1 state_2  \\\n",
       "record id 1           record id 2                                          \n",
       "febrl3-rec-1953-dup-3 febrl3-rec-1260-dup-0      1825598     nsw     nsw   \n",
       "febrl3-rec-1623-dup-2 febrl3-rec-669-dup-2       8439607     nsw     nsw   \n",
       "febrl3-rec-278-dup-1  febrl3-rec-1779-dup-0      5765191     vic     nsw   \n",
       "febrl3-rec-1390-org   febrl3-rec-1029-dup-2      4783085     vic     vic   \n",
       "febrl3-rec-546-dup-3  febrl3-rec-1875-org        3783878     vic      wa   \n",
       "\n",
       "                                            street_number_1 street_number_2  \\\n",
       "record id 1           record id 2                                             \n",
       "febrl3-rec-1953-dup-3 febrl3-rec-1260-dup-0              26              19   \n",
       "febrl3-rec-1623-dup-2 febrl3-rec-669-dup-2               12              33   \n",
       "febrl3-rec-278-dup-1  febrl3-rec-1779-dup-0              12              12   \n",
       "febrl3-rec-1390-org   febrl3-rec-1029-dup-2              24              81   \n",
       "febrl3-rec-546-dup-3  febrl3-rec-1875-org              None              20   \n",
       "\n",
       "                                                suburb_1   suburb_2 surname_1  \\\n",
       "record id 1           record id 2                                               \n",
       "febrl3-rec-1953-dup-3 febrl3-rec-1260-dup-0  forest hill       sale      joel   \n",
       "febrl3-rec-1623-dup-2 febrl3-rec-669-dup-2       propect  adamstown  de paoli   \n",
       "febrl3-rec-278-dup-1  febrl3-rec-1779-dup-0       asplye      colac     ebert   \n",
       "febrl3-rec-1390-org   febrl3-rec-1029-dup-2     creswick   ashfoeld   birchby   \n",
       "febrl3-rec-546-dup-3  febrl3-rec-1875-org    springfield     aspley     artis   \n",
       "\n",
       "                                              surname_2  \n",
       "record id 1           record id 2                        \n",
       "febrl3-rec-1953-dup-3 febrl3-rec-1260-dup-0      nguyen  \n",
       "febrl3-rec-1623-dup-2 febrl3-rec-669-dup-2         ryan  \n",
       "febrl3-rec-278-dup-1  febrl3-rec-1779-dup-0  cordingley  \n",
       "febrl3-rec-1390-org   febrl3-rec-1029-dup-2  stephenson  \n",
       "febrl3-rec-546-dup-3  febrl3-rec-1875-org        millar  \n",
       "\n",
       "[5 rows x 21 columns]"
      ]
     },
     "execution_count": 13,
     "metadata": {},
     "output_type": "execute_result"
    }
   ],
   "source": [
    "labeled_pairs_data_df = dm_utils.get_data_of_labeled_pairs(labeled_pairs_df, unlabeled_data)\n",
    "labeled_pairs_data_df.head()"
   ]
  },
  {
   "cell_type": "markdown",
   "metadata": {},
   "source": [
    "## Merge Clusters and Solos"
   ]
  },
  {
   "cell_type": "code",
   "execution_count": 14,
   "metadata": {},
   "outputs": [
    {
     "data": {
      "text/html": [
       "<div>\n",
       "<style scoped>\n",
       "    .dataframe tbody tr th:only-of-type {\n",
       "        vertical-align: middle;\n",
       "    }\n",
       "\n",
       "    .dataframe tbody tr th {\n",
       "        vertical-align: top;\n",
       "    }\n",
       "\n",
       "    .dataframe thead th {\n",
       "        text-align: right;\n",
       "    }\n",
       "</style>\n",
       "<table border=\"1\" class=\"dataframe\">\n",
       "  <thead>\n",
       "    <tr style=\"text-align: right;\">\n",
       "      <th></th>\n",
       "      <th>date_of_birth</th>\n",
       "      <th>given_name</th>\n",
       "      <th>surname</th>\n",
       "      <th>street_number</th>\n",
       "      <th>address_1</th>\n",
       "      <th>address_2</th>\n",
       "      <th>suburb</th>\n",
       "      <th>postcode</th>\n",
       "      <th>state</th>\n",
       "      <th>soc_sec_id</th>\n",
       "    </tr>\n",
       "    <tr>\n",
       "      <th>cluster id</th>\n",
       "      <th></th>\n",
       "      <th></th>\n",
       "      <th></th>\n",
       "      <th></th>\n",
       "      <th></th>\n",
       "      <th></th>\n",
       "      <th></th>\n",
       "      <th></th>\n",
       "      <th></th>\n",
       "      <th></th>\n",
       "    </tr>\n",
       "  </thead>\n",
       "  <tbody>\n",
       "    <tr>\n",
       "      <th>febrl3-cl-1171</th>\n",
       "      <td>1948/11/01</td>\n",
       "      <td>erin</td>\n",
       "      <td>curry</td>\n",
       "      <td>8</td>\n",
       "      <td>woollum street</td>\n",
       "      <td>dockside 44</td>\n",
       "      <td>black rock</td>\n",
       "      <td>2834</td>\n",
       "      <td>sa</td>\n",
       "      <td>6038038</td>\n",
       "    </tr>\n",
       "    <tr>\n",
       "      <th>febrl3-cl-1172</th>\n",
       "      <td>1968/07/29</td>\n",
       "      <td>joe</td>\n",
       "      <td>passmore</td>\n",
       "      <td>20</td>\n",
       "      <td>sullivan crescent</td>\n",
       "      <td>homestead caravn park</td>\n",
       "      <td>mullewa</td>\n",
       "      <td>2502</td>\n",
       "      <td>nsw</td>\n",
       "      <td>1825863</td>\n",
       "    </tr>\n",
       "    <tr>\n",
       "      <th>febrl3-cl-1173</th>\n",
       "      <td>1955/04/02</td>\n",
       "      <td>owen</td>\n",
       "      <td>dudley</td>\n",
       "      <td>16</td>\n",
       "      <td>shumack street</td>\n",
       "      <td>shallow crossing</td>\n",
       "      <td>logan</td>\n",
       "      <td>2166</td>\n",
       "      <td>sa</td>\n",
       "      <td>2640696</td>\n",
       "    </tr>\n",
       "    <tr>\n",
       "      <th>febrl3-cl-1174</th>\n",
       "      <td>1994/09/12</td>\n",
       "      <td>jackson</td>\n",
       "      <td>bowerman</td>\n",
       "      <td>14</td>\n",
       "      <td>maltby circuit</td>\n",
       "      <td>loravilla</td>\n",
       "      <td>bunbury</td>\n",
       "      <td>2260</td>\n",
       "      <td>wa</td>\n",
       "      <td>9147007</td>\n",
       "    </tr>\n",
       "    <tr>\n",
       "      <th>febrl3-cl-1175</th>\n",
       "      <td>1914/10/26</td>\n",
       "      <td>jaxin</td>\n",
       "      <td>helling</td>\n",
       "      <td>13</td>\n",
       "      <td>donald place</td>\n",
       "      <td>the mount</td>\n",
       "      <td>riverhills</td>\n",
       "      <td>4214</td>\n",
       "      <td>vic</td>\n",
       "      <td>3066240</td>\n",
       "    </tr>\n",
       "  </tbody>\n",
       "</table>\n",
       "</div>"
      ],
      "text/plain": [
       "               date_of_birth given_name   surname street_number  \\\n",
       "cluster id                                                        \n",
       "febrl3-cl-1171    1948/11/01       erin     curry             8   \n",
       "febrl3-cl-1172    1968/07/29        joe  passmore            20   \n",
       "febrl3-cl-1173    1955/04/02       owen    dudley            16   \n",
       "febrl3-cl-1174    1994/09/12    jackson  bowerman            14   \n",
       "febrl3-cl-1175    1914/10/26      jaxin   helling            13   \n",
       "\n",
       "                        address_1              address_2      suburb postcode  \\\n",
       "cluster id                                                                      \n",
       "febrl3-cl-1171     woollum street            dockside 44  black rock     2834   \n",
       "febrl3-cl-1172  sullivan crescent  homestead caravn park     mullewa     2502   \n",
       "febrl3-cl-1173     shumack street       shallow crossing       logan     2166   \n",
       "febrl3-cl-1174     maltby circuit              loravilla     bunbury     2260   \n",
       "febrl3-cl-1175       donald place              the mount  riverhills     4214   \n",
       "\n",
       "               state soc_sec_id  \n",
       "cluster id                       \n",
       "febrl3-cl-1171    sa    6038038  \n",
       "febrl3-cl-1172   nsw    1825863  \n",
       "febrl3-cl-1173    sa    2640696  \n",
       "febrl3-cl-1174    wa    9147007  \n",
       "febrl3-cl-1175   vic    3066240  "
      ]
     },
     "execution_count": 14,
     "metadata": {},
     "output_type": "execute_result"
    }
   ],
   "source": [
    "deduped_data_df = dm_utils.get_deduped_data(mapped_records_df, canonicals_df, unlabeled_data)\n",
    "deduped_data_df.head()"
   ]
  },
  {
   "cell_type": "markdown",
   "metadata": {},
   "source": [
    "## Summary Reports"
   ]
  },
  {
   "cell_type": "code",
   "execution_count": 15,
   "metadata": {},
   "outputs": [
    {
     "name": "stdout",
     "output_type": "stream",
     "text": [
      "Total Number of Records\n",
      "5,000\n",
      "Total Number of Unique Persons (Clusters) after Deduplication\n",
      "2,034\n"
     ]
    }
   ],
   "source": [
    "print(\"Total Number of Records\\n{:,}\".format(mapped_records_df.shape[0]))\n",
    "print(\"Total Number of Unique Persons (Clusters) after Deduplication\\n{:,}\".format(len(mapped_records_df[\"cluster id\"].unique())))"
   ]
  },
  {
   "cell_type": "code",
   "execution_count": 16,
   "metadata": {},
   "outputs": [
    {
     "data": {
      "text/html": [
       "<div>\n",
       "<style scoped>\n",
       "    .dataframe tbody tr th:only-of-type {\n",
       "        vertical-align: middle;\n",
       "    }\n",
       "\n",
       "    .dataframe tbody tr th {\n",
       "        vertical-align: top;\n",
       "    }\n",
       "\n",
       "    .dataframe thead th {\n",
       "        text-align: right;\n",
       "    }\n",
       "</style>\n",
       "<table border=\"1\" class=\"dataframe\">\n",
       "  <thead>\n",
       "    <tr style=\"text-align: right;\">\n",
       "      <th></th>\n",
       "      <th>has duplicate or solo</th>\n",
       "      <th>number of records</th>\n",
       "      <th>percentage of records</th>\n",
       "    </tr>\n",
       "  </thead>\n",
       "  <tbody>\n",
       "    <tr>\n",
       "      <th>0</th>\n",
       "      <td>dup</td>\n",
       "      <td>4136</td>\n",
       "      <td>0.8272</td>\n",
       "    </tr>\n",
       "    <tr>\n",
       "      <th>1</th>\n",
       "      <td>solo</td>\n",
       "      <td>864</td>\n",
       "      <td>0.1728</td>\n",
       "    </tr>\n",
       "  </tbody>\n",
       "</table>\n",
       "</div>"
      ],
      "text/plain": [
       "  has duplicate or solo  number of records  percentage of records\n",
       "0                   dup               4136                 0.8272\n",
       "1                  solo                864                 0.1728"
      ]
     },
     "execution_count": 16,
     "metadata": {},
     "output_type": "execute_result"
    }
   ],
   "source": [
    "dup_solo_summary = mapped_records_df.groupby(\"cluster type\")\\\n",
    "                                    .size()\\\n",
    "                                    .reset_index()\\\n",
    "                                    .rename(columns = {0:\"number of records\"})\n",
    "\n",
    "dup_solo_summary[\"percentage of records\"] = dup_solo_summary[\"number of records\"]/dup_solo_summary[\"number of records\"].sum()\n",
    "dup_solo_summary = dup_solo_summary.rename(columns = {\"cluster type\":\"has duplicate or solo\"})\n",
    "dup_solo_summary"
   ]
  },
  {
   "cell_type": "code",
   "execution_count": 17,
   "metadata": {},
   "outputs": [
    {
     "data": {
      "text/html": [
       "<div>\n",
       "<style scoped>\n",
       "    .dataframe tbody tr th:only-of-type {\n",
       "        vertical-align: middle;\n",
       "    }\n",
       "\n",
       "    .dataframe tbody tr th {\n",
       "        vertical-align: top;\n",
       "    }\n",
       "\n",
       "    .dataframe thead th {\n",
       "        text-align: right;\n",
       "    }\n",
       "</style>\n",
       "<table border=\"1\" class=\"dataframe\">\n",
       "  <thead>\n",
       "    <tr style=\"text-align: right;\">\n",
       "      <th></th>\n",
       "      <th>number of records per unique person</th>\n",
       "      <th>number of unique persons</th>\n",
       "      <th>percentage of unique persons</th>\n",
       "    </tr>\n",
       "  </thead>\n",
       "  <tbody>\n",
       "    <tr>\n",
       "      <th>0</th>\n",
       "      <td>1</td>\n",
       "      <td>864</td>\n",
       "      <td>0.424779</td>\n",
       "    </tr>\n",
       "    <tr>\n",
       "      <th>1</th>\n",
       "      <td>2</td>\n",
       "      <td>382</td>\n",
       "      <td>0.187807</td>\n",
       "    </tr>\n",
       "    <tr>\n",
       "      <th>2</th>\n",
       "      <td>3</td>\n",
       "      <td>259</td>\n",
       "      <td>0.127335</td>\n",
       "    </tr>\n",
       "    <tr>\n",
       "      <th>3</th>\n",
       "      <td>4</td>\n",
       "      <td>208</td>\n",
       "      <td>0.102262</td>\n",
       "    </tr>\n",
       "    <tr>\n",
       "      <th>4</th>\n",
       "      <td>5</td>\n",
       "      <td>163</td>\n",
       "      <td>0.080138</td>\n",
       "    </tr>\n",
       "    <tr>\n",
       "      <th>5</th>\n",
       "      <td>6</td>\n",
       "      <td>158</td>\n",
       "      <td>0.077679</td>\n",
       "    </tr>\n",
       "  </tbody>\n",
       "</table>\n",
       "</div>"
      ],
      "text/plain": [
       "   number of records per unique person  number of unique persons  \\\n",
       "0                                    1                       864   \n",
       "1                                    2                       382   \n",
       "2                                    3                       259   \n",
       "3                                    4                       208   \n",
       "4                                    5                       163   \n",
       "5                                    6                       158   \n",
       "\n",
       "   percentage of unique persons  \n",
       "0                      0.424779  \n",
       "1                      0.187807  \n",
       "2                      0.127335  \n",
       "3                      0.102262  \n",
       "4                      0.080138  \n",
       "5                      0.077679  "
      ]
     },
     "execution_count": 17,
     "metadata": {},
     "output_type": "execute_result"
    }
   ],
   "source": [
    "cluster_size_summary = mapped_records_df.groupby(\"cluster id\")\\\n",
    "                                        .size()\\\n",
    "                                        .reset_index()\\\n",
    "                                        .rename(columns = {0:\"number of records per unique person\"})\\\n",
    "                                        .groupby(\"number of records per unique person\")\\\n",
    "                                        .size()\\\n",
    "                                        .reset_index()\\\n",
    "                                        .rename(columns = {0:\"number of unique persons\"})\n",
    "\n",
    "cluster_size_summary[\"percentage of unique persons\"] = cluster_size_summary[\"number of unique persons\"]/cluster_size_summary[\"number of unique persons\"].sum()\n",
    "cluster_size_summary"
   ]
  },
  {
   "cell_type": "markdown",
   "metadata": {},
   "source": [
    "## Training Set Evaluation - Assessing Blocking on Training Data"
   ]
  },
  {
   "cell_type": "code",
   "execution_count": 18,
   "metadata": {},
   "outputs": [],
   "source": [
    "true_links = labeled_pairs_df.loc[labeled_pairs_df[\"label\"] == \"match\",:]\\\n",
    "                                            .set_index([\"record id 1\", \"record id 2\"]).index\n",
    "true_links = true_links.map(lambda x: tuple(sorted(x)))"
   ]
  },
  {
   "cell_type": "code",
   "execution_count": 19,
   "metadata": {},
   "outputs": [],
   "source": [
    "labeled_rec_ids = labeled_pairs_df[\"record id 1\"].unique().tolist() + labeled_pairs_df[\"record id 2\"].unique().tolist()\n",
    "\n",
    "labeled_pairs_data = {rec_id:unlabeled_data[rec_id] for rec_id in labeled_rec_ids}\n",
    "\n",
    "candidate_pairs = dm_utils.get_deduper_candidate_pairs(deduper, labeled_pairs_data)\n",
    "candidate_pairs = candidate_pairs.map(lambda x: tuple(sorted(x)))"
   ]
  },
  {
   "cell_type": "code",
   "execution_count": 20,
   "metadata": {},
   "outputs": [
    {
     "name": "stdout",
     "output_type": "stream",
     "text": [
      "Pairs Completeness Ratio\n",
      "100.00%\n",
      "Pairs Quality Ratio\n",
      "50.77%\n"
     ]
    }
   ],
   "source": [
    "dmd.diagnose_indexing(true_links, candidate_pairs)"
   ]
  },
  {
   "cell_type": "markdown",
   "metadata": {},
   "source": [
    "## Training Set Evaluation - Assessing Classification on Labeled Data"
   ]
  },
  {
   "cell_type": "code",
   "execution_count": 21,
   "metadata": {},
   "outputs": [],
   "source": [
    "threshold = 0.5"
   ]
  },
  {
   "cell_type": "code",
   "execution_count": 22,
   "metadata": {},
   "outputs": [],
   "source": [
    "labeled_all_links = labeled_pairs_df.set_index([\"record id 1\", \"record id 2\"]).index"
   ]
  },
  {
   "cell_type": "code",
   "execution_count": 23,
   "metadata": {},
   "outputs": [
    {
     "data": {
      "text/html": [
       "<div>\n",
       "<style scoped>\n",
       "    .dataframe tbody tr th:only-of-type {\n",
       "        vertical-align: middle;\n",
       "    }\n",
       "\n",
       "    .dataframe tbody tr th {\n",
       "        vertical-align: top;\n",
       "    }\n",
       "\n",
       "    .dataframe thead th {\n",
       "        text-align: right;\n",
       "    }\n",
       "</style>\n",
       "<table border=\"1\" class=\"dataframe\">\n",
       "  <thead>\n",
       "    <tr style=\"text-align: right;\">\n",
       "      <th></th>\n",
       "      <th>record id 1</th>\n",
       "      <th>record id 2</th>\n",
       "      <th>label</th>\n",
       "      <th>score</th>\n",
       "      <th>predicted label</th>\n",
       "    </tr>\n",
       "  </thead>\n",
       "  <tbody>\n",
       "    <tr>\n",
       "      <th>0</th>\n",
       "      <td>febrl3-rec-1953-dup-3</td>\n",
       "      <td>febrl3-rec-1260-dup-0</td>\n",
       "      <td>distinct</td>\n",
       "      <td>5.048990e-11</td>\n",
       "      <td>distinct</td>\n",
       "    </tr>\n",
       "    <tr>\n",
       "      <th>1</th>\n",
       "      <td>febrl3-rec-1623-dup-2</td>\n",
       "      <td>febrl3-rec-669-dup-2</td>\n",
       "      <td>distinct</td>\n",
       "      <td>8.212981e-15</td>\n",
       "      <td>distinct</td>\n",
       "    </tr>\n",
       "    <tr>\n",
       "      <th>2</th>\n",
       "      <td>febrl3-rec-278-dup-1</td>\n",
       "      <td>febrl3-rec-1779-dup-0</td>\n",
       "      <td>distinct</td>\n",
       "      <td>5.581772e-17</td>\n",
       "      <td>distinct</td>\n",
       "    </tr>\n",
       "    <tr>\n",
       "      <th>3</th>\n",
       "      <td>febrl3-rec-1390-org</td>\n",
       "      <td>febrl3-rec-1029-dup-2</td>\n",
       "      <td>distinct</td>\n",
       "      <td>7.871429e-13</td>\n",
       "      <td>distinct</td>\n",
       "    </tr>\n",
       "    <tr>\n",
       "      <th>4</th>\n",
       "      <td>febrl3-rec-546-dup-3</td>\n",
       "      <td>febrl3-rec-1875-org</td>\n",
       "      <td>distinct</td>\n",
       "      <td>1.015923e-11</td>\n",
       "      <td>distinct</td>\n",
       "    </tr>\n",
       "  </tbody>\n",
       "</table>\n",
       "</div>"
      ],
      "text/plain": [
       "             record id 1            record id 2     label         score  \\\n",
       "0  febrl3-rec-1953-dup-3  febrl3-rec-1260-dup-0  distinct  5.048990e-11   \n",
       "1  febrl3-rec-1623-dup-2   febrl3-rec-669-dup-2  distinct  8.212981e-15   \n",
       "2   febrl3-rec-278-dup-1  febrl3-rec-1779-dup-0  distinct  5.581772e-17   \n",
       "3    febrl3-rec-1390-org  febrl3-rec-1029-dup-2  distinct  7.871429e-13   \n",
       "4   febrl3-rec-546-dup-3    febrl3-rec-1875-org  distinct  1.015923e-11   \n",
       "\n",
       "  predicted label  \n",
       "0        distinct  \n",
       "1        distinct  \n",
       "2        distinct  \n",
       "3        distinct  \n",
       "4        distinct  "
      ]
     },
     "execution_count": 23,
     "metadata": {},
     "output_type": "execute_result"
    }
   ],
   "source": [
    "candidates = dm_utils.convert_rl_to_dedupe_candidate_pair(labeled_all_links, unlabeled_data)\n",
    "#candidates = deduper._blockData(candidates)\n",
    "candidate_scores = dedupe.core.scoreDuplicates(candidates, deduper.data_model, deduper.classifier, deduper.num_cores)\n",
    "labeled_pairs_df[\"score\"] = candidate_scores[\"score\"]\n",
    "labeled_pairs_df[\"predicted label\"] = labeled_pairs_df[\"score\"].apply(lambda x: \"match\" if x > threshold else \"distinct\")\n",
    "labeled_pairs_df.head()"
   ]
  },
  {
   "cell_type": "code",
   "execution_count": 24,
   "metadata": {},
   "outputs": [
    {
     "data": {
      "image/png": "[encoded data removed]",
      "text/plain": [
       "<Figure size 432x288 with 1 Axes>"
      ]
     },
     "metadata": {
      "needs_background": "light"
     },
     "output_type": "display_data"
    }
   ],
   "source": [
    "labeled_pairs_df[\"score\"].hist(bins = 40)\n",
    "plt.xlabel(\"Score\")\n",
    "plt.ylabel(\"Frequency\")\n",
    "plt.title(\"Histogram of Scores on Training Set\")\n",
    "plt.show()"
   ]
  },
  {
   "cell_type": "code",
   "execution_count": 25,
   "metadata": {},
   "outputs": [
    {
     "name": "stdout",
     "output_type": "stream",
     "text": [
      "Confusion Matrix\n",
      "[[66  0]\n",
      " [ 0 60]]\n",
      "Accuracy Score 100.0%\n"
     ]
    }
   ],
   "source": [
    "y_true = labeled_pairs_df[\"label\"]\n",
    "y_pred = labeled_pairs_df[\"predicted label\"]\n",
    "print(\"Confusion Matrix\\n{}\".format(confusion_matrix(y_true, y_pred, labels = [\"match\", \"distinct\"])))\n",
    "print(\"Accuracy Score {:.1f}%\".format(accuracy_score(y_true, y_pred)*100))"
   ]
  },
  {
   "cell_type": "code",
   "execution_count": null,
   "metadata": {},
   "outputs": [],
   "source": []
  }
 ],
 "metadata": {
  "kernelspec": {
   "display_name": "Python [conda env:data_matching] *",
   "language": "python",
   "name": "conda-env-data_matching-py"
  },
  "language_info": {
   "codemirror_mode": {
    "name": "ipython",
    "version": 3
   },
   "file_extension": ".py",
   "mimetype": "text/x-python",
   "name": "python",
   "nbconvert_exporter": "python",
   "pygments_lexer": "ipython3",
   "version": "3.8.2"
  }
 },
 "nbformat": 4,
 "nbformat_minor": 2
}
