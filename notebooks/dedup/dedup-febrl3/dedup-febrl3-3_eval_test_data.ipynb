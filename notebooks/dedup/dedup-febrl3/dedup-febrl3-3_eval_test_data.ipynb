{
 "cells": [
  {
   "cell_type": "code",
   "execution_count": 1,
   "metadata": {},
   "outputs": [],
   "source": [
    "%load_ext autoreload\n",
    "%autoreload 2\n",
    "import sys\n",
    "# do this to be able to import the custom python scripts\n",
    "sys.path.insert(1, \"../../../python_scripts\")\n",
    "import os\n",
    "\n",
    "import recordlinkage as rl\n",
    "from recordlinkage import preprocessing\n",
    "from recordlinkage.datasets import load_febrl1, load_febrl2, load_febrl3, load_febrl4\n",
    "\n",
    "from sklearn.model_selection import train_test_split\n",
    "from sklearn.metrics import confusion_matrix, accuracy_score\n",
    "\n",
    "import dm_diagnostics as dmd\n",
    "import dm_utils\n",
    "import dm_file_checker\n",
    "\n",
    "from itertools import combinations\n",
    "\n",
    "import json\n",
    "\n",
    "import dedupe\n",
    "import os\n",
    "import pandas as pd\n",
    "import numpy as np\n",
    "import matplotlib.pyplot as plt\n",
    "import seaborn as sns\n",
    "%matplotlib inline\n",
    "\n",
    "RANDOM_SEED = 1001"
   ]
  },
  {
   "cell_type": "markdown",
   "metadata": {},
   "source": [
    "## Get Appropriate Filepaths"
   ]
  },
  {
   "cell_type": "code",
   "execution_count": 2,
   "metadata": {},
   "outputs": [
    {
     "name": "stdout",
     "output_type": "stream",
     "text": [
      "Using recall value of 1.0\n",
      "Numeric fields are []\n"
     ]
    }
   ],
   "source": [
    "saved_files_path = \"../../../saved_files\"\n",
    "task_name = os.path.basename(os.getcwd())\n",
    "    \n",
    "# files to be read in\n",
    "unlabeled_data_filepath = dm_file_checker.get_proper_unlabeled_data_filepath(task_name, saved_files_path)\n",
    "mapped_records_filepath =  dm_file_checker.get_filepath(task_name, \"mapped_records\", saved_files_path)\n",
    "labeled_pair_ids_filepath =  dm_file_checker.get_filepath(task_name, \"labeled_pair_ids\", saved_files_path)\n",
    "\n",
    "# files to be written out as output\n",
    "settings_filepath =  dm_file_checker.get_filepath(task_name, \"model_settings_test_split\", saved_files_path)\n",
    "labeled_data_filepath = dm_file_checker.get_filepath(task_name, \"labeled_data_test_split\", saved_files_path)\n",
    "\n",
    "numeric_fields = dm_file_checker.get_dataset_info(task_name, \"numeric_fields\", saved_files_path)\n",
    "RECALL_TRAIN_VAL = dm_file_checker.get_task_info(task_name, \"recall_train\", saved_files_path)\n",
    "print(\"Using recall value of {}\".format(RECALL_TRAIN_VAL))\n",
    "print(\"Numeric fields are {}\".format(numeric_fields))"
   ]
  },
  {
   "cell_type": "markdown",
   "metadata": {},
   "source": [
    "## Define parameters for model"
   ]
  },
  {
   "cell_type": "code",
   "execution_count": 3,
   "metadata": {},
   "outputs": [],
   "source": [
    "# default blocked_proportion is 50%\n",
    "BLOCKED_PROPORTION = 0.5\n",
    "# default sample size is 15000\n",
    "#SAMPLE_SIZE = 30_000\n",
    "SAMPLE_SIZE = 15_000"
   ]
  },
  {
   "cell_type": "markdown",
   "metadata": {},
   "source": [
    "## Setup: Reading in Labeled Data"
   ]
  },
  {
   "cell_type": "code",
   "execution_count": 4,
   "metadata": {},
   "outputs": [
    {
     "name": "stdout",
     "output_type": "stream",
     "text": [
      "converting 190 empty string values of column date_of_birth to None\n",
      "converting 156 empty string values of column given_name to None\n",
      "converting 79 empty string values of column surname to None\n",
      "converting 245 empty string values of column street_number to None\n",
      "converting 154 empty string values of column address_1 to None\n",
      "converting 693 empty string values of column address_2 to None\n",
      "converting 85 empty string values of column suburb to None\n",
      "converting 0 empty string values of column postcode to None\n",
      "converting 85 empty string values of column state to None\n",
      "converting 0 empty string values of column soc_sec_id to None\n"
     ]
    }
   ],
   "source": [
    "# reading in unlabeled_data\n",
    "unlabeled_data = dm_utils.read_unlabeled_data_json(unlabeled_data_filepath, numeric_fields = numeric_fields)\n"
   ]
  },
  {
   "cell_type": "markdown",
   "metadata": {},
   "source": [
    "## Train Test Split of Labeled Data"
   ]
  },
  {
   "cell_type": "code",
   "execution_count": 5,
   "metadata": {
    "scrolled": true
   },
   "outputs": [
    {
     "data": {
      "text/html": [
       "<div>\n",
       "<style scoped>\n",
       "    .dataframe tbody tr th:only-of-type {\n",
       "        vertical-align: middle;\n",
       "    }\n",
       "\n",
       "    .dataframe tbody tr th {\n",
       "        vertical-align: top;\n",
       "    }\n",
       "\n",
       "    .dataframe thead th {\n",
       "        text-align: right;\n",
       "    }\n",
       "</style>\n",
       "<table border=\"1\" class=\"dataframe\">\n",
       "  <thead>\n",
       "    <tr style=\"text-align: right;\">\n",
       "      <th></th>\n",
       "      <th>record id 1</th>\n",
       "      <th>record id 2</th>\n",
       "      <th>label</th>\n",
       "    </tr>\n",
       "  </thead>\n",
       "  <tbody>\n",
       "    <tr>\n",
       "      <th>0</th>\n",
       "      <td>febrl3-rec-1953-dup-3</td>\n",
       "      <td>febrl3-rec-1260-dup-0</td>\n",
       "      <td>distinct</td>\n",
       "    </tr>\n",
       "    <tr>\n",
       "      <th>1</th>\n",
       "      <td>febrl3-rec-1623-dup-2</td>\n",
       "      <td>febrl3-rec-669-dup-2</td>\n",
       "      <td>distinct</td>\n",
       "    </tr>\n",
       "    <tr>\n",
       "      <th>2</th>\n",
       "      <td>febrl3-rec-278-dup-1</td>\n",
       "      <td>febrl3-rec-1779-dup-0</td>\n",
       "      <td>distinct</td>\n",
       "    </tr>\n",
       "    <tr>\n",
       "      <th>3</th>\n",
       "      <td>febrl3-rec-1390-org</td>\n",
       "      <td>febrl3-rec-1029-dup-2</td>\n",
       "      <td>distinct</td>\n",
       "    </tr>\n",
       "    <tr>\n",
       "      <th>4</th>\n",
       "      <td>febrl3-rec-546-dup-3</td>\n",
       "      <td>febrl3-rec-1875-org</td>\n",
       "      <td>distinct</td>\n",
       "    </tr>\n",
       "  </tbody>\n",
       "</table>\n",
       "</div>"
      ],
      "text/plain": [
       "             record id 1            record id 2     label\n",
       "0  febrl3-rec-1953-dup-3  febrl3-rec-1260-dup-0  distinct\n",
       "1  febrl3-rec-1623-dup-2   febrl3-rec-669-dup-2  distinct\n",
       "2   febrl3-rec-278-dup-1  febrl3-rec-1779-dup-0  distinct\n",
       "3    febrl3-rec-1390-org  febrl3-rec-1029-dup-2  distinct\n",
       "4   febrl3-rec-546-dup-3    febrl3-rec-1875-org  distinct"
      ]
     },
     "execution_count": 5,
     "metadata": {},
     "output_type": "execute_result"
    }
   ],
   "source": [
    "labeled_pair_ids_df = pd.read_csv(labeled_pair_ids_filepath, dtype = str)\n",
    "labeled_pair_ids_df.head()"
   ]
  },
  {
   "cell_type": "code",
   "execution_count": 6,
   "metadata": {},
   "outputs": [
    {
     "name": "stdout",
     "output_type": "stream",
     "text": [
      "(100, 3) (26, 3)\n"
     ]
    }
   ],
   "source": [
    "#sampling based on random split (may not be advisable because of active learning's sampling methodology)\n",
    "labeled_pair_ids_train, labeled_pair_ids_test = train_test_split(labeled_pair_ids_df,\n",
    "                                                                 test_size = 0.2,  \n",
    "                                                                 random_state = RANDOM_SEED)\n",
    "labeled_pair_ids_train = labeled_pair_ids_train.copy()\n",
    "labeled_pair_ids_test = labeled_pair_ids_test.copy()\n",
    "print(labeled_pair_ids_train.shape, labeled_pair_ids_test.shape)"
   ]
  },
  {
   "cell_type": "code",
   "execution_count": 7,
   "metadata": {},
   "outputs": [],
   "source": [
    "dm_utils.write_training_set_from_pairs(labeled_pair_ids_train, labeled_data_filepath, unlabeled_data)"
   ]
  },
  {
   "cell_type": "markdown",
   "metadata": {},
   "source": [
    "## Retraining Model"
   ]
  },
  {
   "cell_type": "code",
   "execution_count": 8,
   "metadata": {},
   "outputs": [
    {
     "name": "stdout",
     "output_type": "stream",
     "text": [
      "Using the following fields for the model\n",
      "[{'field': 'street_number', 'type': 'ShortString', 'has missing': True}, {'field': 'postcode', 'type': 'ShortString'}, {'field': 'state', 'type': 'ShortString', 'has missing': True}, {'field': 'soc_sec_id', 'type': 'ShortString'}, {'field': 'given_name', 'type': 'String', 'has missing': True}, {'field': 'surname', 'type': 'String', 'has missing': True}, {'field': 'address_1', 'type': 'String', 'has missing': True}, {'field': 'address_2', 'type': 'String', 'has missing': True}, {'field': 'suburb', 'type': 'String', 'has missing': True}, {'field': 'date_of_birth', 'type': 'DateTime', 'has missing': True, 'fuzzy': False, 'yearfirst': True}]\n"
     ]
    }
   ],
   "source": [
    "\n",
    "fields = dm_file_checker.get_task_info(task_name, \"fields\", saved_files_path)\n",
    "print(\"Using the following fields for the model\")\n",
    "print(fields)\n",
    "\n",
    "deduper = dedupe.Dedupe(fields, num_cores = 4)\n"
   ]
  },
  {
   "cell_type": "code",
   "execution_count": 9,
   "metadata": {},
   "outputs": [
    {
     "name": "stderr",
     "output_type": "stream",
     "text": [
      "INFO:dedupe.api:reading training from file\n"
     ]
    },
    {
     "name": "stdout",
     "output_type": "stream",
     "text": [
      "reading labeled examples from  ../../../saved_files/dedup-febrl3/test_split_output/labeled_data.json\n"
     ]
    },
    {
     "name": "stderr",
     "output_type": "stream",
     "text": [
      "INFO:dedupe.training:Final predicate set:\n",
      "INFO:dedupe.training:(SimplePredicate: (commonThreeTokens, address_2), SimplePredicate: (commonTwoTokens, suburb))\n",
      "INFO:dedupe.training:Final predicate set:\n",
      "INFO:dedupe.training:(SimplePredicate: (sortedAcronym, postcode), SimplePredicate: (wholeFieldPredicate, date_of_birth))\n",
      "INFO:dedupe.training:(SimplePredicate: (doubleMetaphone, suburb), SimplePredicate: (sameThreeCharStartPredicate, given_name))\n",
      "INFO:dedupe.training:(SimplePredicate: (firstTokenPredicate, address_1), SimplePredicate: (sortedAcronym, address_2))\n"
     ]
    },
    {
     "name": "stdout",
     "output_type": "stream",
     "text": [
      "CPU times: user 1min 57s, sys: 1.63 s, total: 1min 59s\n",
      "Wall time: 2min 16s\n"
     ]
    }
   ],
   "source": [
    "%%time\n",
    "dm_utils.prepare_training_deduper(deduper, unlabeled_data, labeled_data_filepath, \n",
    "                                  blocked_proportion = BLOCKED_PROPORTION, \n",
    "                                  sample_size = SAMPLE_SIZE)"
   ]
  },
  {
   "cell_type": "code",
   "execution_count": 10,
   "metadata": {},
   "outputs": [
    {
     "name": "stderr",
     "output_type": "stream",
     "text": [
      "INFO:rlr.crossvalidation:using cross validation to find optimum alpha...\n",
      "INFO:rlr.crossvalidation:optimum alpha: 1.000000, score 0.9403430774111937\n",
      "INFO:dedupe.training:Final predicate set:\n",
      "INFO:dedupe.training:(SimplePredicate: (sortedAcronym, postcode), SimplePredicate: (wholeFieldPredicate, date_of_birth))\n",
      "INFO:dedupe.training:(SimplePredicate: (doubleMetaphone, suburb), SimplePredicate: (sameThreeCharStartPredicate, given_name))\n",
      "INFO:dedupe.training:(SimplePredicate: (firstTokenPredicate, address_1), SimplePredicate: (sortedAcronym, address_2))\n"
     ]
    },
    {
     "name": "stdout",
     "output_type": "stream",
     "text": [
      "CPU times: user 26 s, sys: 438 ms, total: 26.4 s\n",
      "Wall time: 32.6 s\n"
     ]
    }
   ],
   "source": [
    "%%time\n",
    "# Using the examples we just labeled, train the deduper and learn blocking predicates\n",
    "deduper.train(recall = RECALL_TRAIN_VAL)\n",
    "\n",
    "dm_utils.save_trained_deduper(deduper, labeled_data_filepath, settings_filepath)"
   ]
  },
  {
   "cell_type": "code",
   "execution_count": 11,
   "metadata": {},
   "outputs": [
    {
     "data": {
      "text/plain": [
       "((SimplePredicate: (sortedAcronym, postcode),\n",
       "  SimplePredicate: (wholeFieldPredicate, date_of_birth)),\n",
       " (SimplePredicate: (doubleMetaphone, suburb),\n",
       "  SimplePredicate: (sameThreeCharStartPredicate, given_name)),\n",
       " (SimplePredicate: (firstTokenPredicate, address_1),\n",
       "  SimplePredicate: (sortedAcronym, address_2)))"
      ]
     },
     "execution_count": 11,
     "metadata": {},
     "output_type": "execute_result"
    }
   ],
   "source": [
    "deduper.predicates"
   ]
  },
  {
   "cell_type": "markdown",
   "metadata": {},
   "source": [
    "## Model Weights"
   ]
  },
  {
   "cell_type": "code",
   "execution_count": 12,
   "metadata": {},
   "outputs": [
    {
     "data": {
      "text/html": [
       "<div>\n",
       "<style scoped>\n",
       "    .dataframe tbody tr th:only-of-type {\n",
       "        vertical-align: middle;\n",
       "    }\n",
       "\n",
       "    .dataframe tbody tr th {\n",
       "        vertical-align: top;\n",
       "    }\n",
       "\n",
       "    .dataframe thead th {\n",
       "        text-align: right;\n",
       "    }\n",
       "</style>\n",
       "<table border=\"1\" class=\"dataframe\">\n",
       "  <thead>\n",
       "    <tr style=\"text-align: right;\">\n",
       "      <th></th>\n",
       "      <th>variable</th>\n",
       "      <th>logistic_reg_weight</th>\n",
       "    </tr>\n",
       "  </thead>\n",
       "  <tbody>\n",
       "    <tr>\n",
       "      <th>0</th>\n",
       "      <td>(soc_sec_id: ShortString)</td>\n",
       "      <td>-1.010969e+00</td>\n",
       "    </tr>\n",
       "    <tr>\n",
       "      <th>1</th>\n",
       "      <td>(suburb: String)</td>\n",
       "      <td>-7.866343e-01</td>\n",
       "    </tr>\n",
       "    <tr>\n",
       "      <th>2</th>\n",
       "      <td>(postcode: ShortString)</td>\n",
       "      <td>-6.732775e-01</td>\n",
       "    </tr>\n",
       "    <tr>\n",
       "      <th>3</th>\n",
       "      <td>(given_name: String)</td>\n",
       "      <td>-5.603799e-01</td>\n",
       "    </tr>\n",
       "    <tr>\n",
       "      <th>4</th>\n",
       "      <td>(address_2: String)</td>\n",
       "      <td>-4.959024e-01</td>\n",
       "    </tr>\n",
       "    <tr>\n",
       "      <th>5</th>\n",
       "      <td>(state: ShortString)</td>\n",
       "      <td>-4.716288e-01</td>\n",
       "    </tr>\n",
       "    <tr>\n",
       "      <th>6</th>\n",
       "      <td>(street_number: ShortString)</td>\n",
       "      <td>-3.753769e-01</td>\n",
       "    </tr>\n",
       "    <tr>\n",
       "      <th>7</th>\n",
       "      <td>(address_1: String)</td>\n",
       "      <td>-2.160684e-01</td>\n",
       "    </tr>\n",
       "    <tr>\n",
       "      <th>8</th>\n",
       "      <td>(surname: String)</td>\n",
       "      <td>-1.950258e-01</td>\n",
       "    </tr>\n",
       "    <tr>\n",
       "      <th>9</th>\n",
       "      <td>(days: Derived)</td>\n",
       "      <td>-2.133609e-02</td>\n",
       "    </tr>\n",
       "    <tr>\n",
       "      <th>10</th>\n",
       "      <td>(seconds: Dummy)</td>\n",
       "      <td>6.180023e-08</td>\n",
       "    </tr>\n",
       "    <tr>\n",
       "      <th>11</th>\n",
       "      <td>(months: Dummy)</td>\n",
       "      <td>6.180023e-08</td>\n",
       "    </tr>\n",
       "    <tr>\n",
       "      <th>12</th>\n",
       "      <td>(years: Dummy)</td>\n",
       "      <td>6.180023e-08</td>\n",
       "    </tr>\n",
       "    <tr>\n",
       "      <th>13</th>\n",
       "      <td>(seconds: Derived)</td>\n",
       "      <td>6.180023e-08</td>\n",
       "    </tr>\n",
       "    <tr>\n",
       "      <th>14</th>\n",
       "      <td>(months: Derived)</td>\n",
       "      <td>6.180023e-08</td>\n",
       "    </tr>\n",
       "    <tr>\n",
       "      <th>15</th>\n",
       "      <td>(years: Derived)</td>\n",
       "      <td>6.180023e-08</td>\n",
       "    </tr>\n",
       "    <tr>\n",
       "      <th>16</th>\n",
       "      <td>(full string: Derived)</td>\n",
       "      <td>6.180023e-08</td>\n",
       "    </tr>\n",
       "    <tr>\n",
       "      <th>17</th>\n",
       "      <td>((suburb: String): Not Missing)</td>\n",
       "      <td>5.069338e-02</td>\n",
       "    </tr>\n",
       "    <tr>\n",
       "      <th>18</th>\n",
       "      <td>((surname: String): Not Missing)</td>\n",
       "      <td>1.442513e-01</td>\n",
       "    </tr>\n",
       "    <tr>\n",
       "      <th>19</th>\n",
       "      <td>(date_of_birth: Not Missing: Dummy)</td>\n",
       "      <td>1.697785e-01</td>\n",
       "    </tr>\n",
       "    <tr>\n",
       "      <th>20</th>\n",
       "      <td>(days: Dummy)</td>\n",
       "      <td>1.697785e-01</td>\n",
       "    </tr>\n",
       "    <tr>\n",
       "      <th>21</th>\n",
       "      <td>((state: ShortString): Not Missing)</td>\n",
       "      <td>2.020450e-01</td>\n",
       "    </tr>\n",
       "    <tr>\n",
       "      <th>22</th>\n",
       "      <td>((given_name: String): Not Missing)</td>\n",
       "      <td>2.059675e-01</td>\n",
       "    </tr>\n",
       "    <tr>\n",
       "      <th>23</th>\n",
       "      <td>((address_1: String): Not Missing)</td>\n",
       "      <td>3.060077e-01</td>\n",
       "    </tr>\n",
       "    <tr>\n",
       "      <th>24</th>\n",
       "      <td>((address_2: String): Not Missing)</td>\n",
       "      <td>3.235370e-01</td>\n",
       "    </tr>\n",
       "    <tr>\n",
       "      <th>25</th>\n",
       "      <td>((street_number: ShortString): Not Missing)</td>\n",
       "      <td>3.635268e-01</td>\n",
       "    </tr>\n",
       "  </tbody>\n",
       "</table>\n",
       "</div>"
      ],
      "text/plain": [
       "                                       variable  logistic_reg_weight\n",
       "0                     (soc_sec_id: ShortString)        -1.010969e+00\n",
       "1                              (suburb: String)        -7.866343e-01\n",
       "2                       (postcode: ShortString)        -6.732775e-01\n",
       "3                          (given_name: String)        -5.603799e-01\n",
       "4                           (address_2: String)        -4.959024e-01\n",
       "5                          (state: ShortString)        -4.716288e-01\n",
       "6                  (street_number: ShortString)        -3.753769e-01\n",
       "7                           (address_1: String)        -2.160684e-01\n",
       "8                             (surname: String)        -1.950258e-01\n",
       "9                               (days: Derived)        -2.133609e-02\n",
       "10                             (seconds: Dummy)         6.180023e-08\n",
       "11                              (months: Dummy)         6.180023e-08\n",
       "12                               (years: Dummy)         6.180023e-08\n",
       "13                           (seconds: Derived)         6.180023e-08\n",
       "14                            (months: Derived)         6.180023e-08\n",
       "15                             (years: Derived)         6.180023e-08\n",
       "16                       (full string: Derived)         6.180023e-08\n",
       "17              ((suburb: String): Not Missing)         5.069338e-02\n",
       "18             ((surname: String): Not Missing)         1.442513e-01\n",
       "19          (date_of_birth: Not Missing: Dummy)         1.697785e-01\n",
       "20                                (days: Dummy)         1.697785e-01\n",
       "21          ((state: ShortString): Not Missing)         2.020450e-01\n",
       "22          ((given_name: String): Not Missing)         2.059675e-01\n",
       "23           ((address_1: String): Not Missing)         3.060077e-01\n",
       "24           ((address_2: String): Not Missing)         3.235370e-01\n",
       "25  ((street_number: ShortString): Not Missing)         3.635268e-01"
      ]
     },
     "execution_count": 12,
     "metadata": {},
     "output_type": "execute_result"
    }
   ],
   "source": [
    "# checking model weights\n",
    "model_weights = dm_utils.get_model_weights(deduper)\n",
    "model_weights"
   ]
  },
  {
   "cell_type": "code",
   "execution_count": null,
   "metadata": {},
   "outputs": [],
   "source": []
  },
  {
   "cell_type": "markdown",
   "metadata": {},
   "source": [
    "## Assessing Blocking on Labeled Data (Test Set)"
   ]
  },
  {
   "cell_type": "code",
   "execution_count": 13,
   "metadata": {},
   "outputs": [],
   "source": [
    "labeled_true_links = labeled_pair_ids_test.loc[labeled_pair_ids_test[\"label\"] == \"match\",:]\\\n",
    "                                            .set_index([\"record id 1\", \"record id 2\"]).index\n",
    "labeled_true_links = labeled_true_links.map(lambda x: tuple(sorted(x)))"
   ]
  },
  {
   "cell_type": "code",
   "execution_count": 14,
   "metadata": {},
   "outputs": [],
   "source": [
    "labeled_rec_ids = labeled_pair_ids_test[\"record id 1\"].unique().tolist() + labeled_pair_ids_test[\"record id 2\"].unique().tolist()\n",
    "\n",
    "labeled_pairs_data = {rec_id:unlabeled_data[rec_id] for rec_id in labeled_rec_ids}\n",
    "\n",
    "labeled_candidate_pairs = dm_utils.get_deduper_candidate_pairs(deduper, labeled_pairs_data)\n",
    "labeled_candidate_pairs = labeled_candidate_pairs.map(lambda x: tuple(sorted(x)))"
   ]
  },
  {
   "cell_type": "code",
   "execution_count": 15,
   "metadata": {},
   "outputs": [
    {
     "name": "stdout",
     "output_type": "stream",
     "text": [
      "Pairs Completeness Ratio\n",
      "92.31%\n",
      "Pairs Quality Ratio\n",
      "92.31%\n"
     ]
    }
   ],
   "source": [
    "dmd.diagnose_indexing(labeled_true_links, labeled_candidate_pairs)"
   ]
  },
  {
   "cell_type": "code",
   "execution_count": 16,
   "metadata": {},
   "outputs": [
    {
     "data": {
      "text/plain": [
       "MultiIndex([('febrl3-rec-1490-dup-0',   'febrl3-rec-1490-org'),\n",
       "            ('febrl3-rec-1621-dup-0', 'febrl3-rec-1621-dup-3'),\n",
       "            ( 'febrl3-rec-941-dup-3',  'febrl3-rec-941-dup-4'),\n",
       "            ('febrl3-rec-1708-dup-1', 'febrl3-rec-1708-dup-3'),\n",
       "            ('febrl3-rec-1990-dup-4',   'febrl3-rec-1990-org'),\n",
       "            ('febrl3-rec-1217-dup-1', 'febrl3-rec-1217-dup-2'),\n",
       "            ( 'febrl3-rec-688-dup-0',  'febrl3-rec-688-dup-1'),\n",
       "            ('febrl3-rec-1418-dup-0', 'febrl3-rec-1418-dup-2'),\n",
       "            ('febrl3-rec-1725-dup-1', 'febrl3-rec-1725-dup-2'),\n",
       "            ('febrl3-rec-1648-dup-0', 'febrl3-rec-1648-dup-2'),\n",
       "            ('febrl3-rec-1534-dup-2', 'febrl3-rec-1534-dup-3'),\n",
       "            ('febrl3-rec-1694-dup-1', 'febrl3-rec-1694-dup-3'),\n",
       "            ( 'febrl3-rec-375-dup-1',  'febrl3-rec-375-dup-2')],\n",
       "           names=['record id 1', 'record id 2'])"
      ]
     },
     "execution_count": 16,
     "metadata": {},
     "output_type": "execute_result"
    }
   ],
   "source": [
    "labeled_true_links"
   ]
  },
  {
   "cell_type": "code",
   "execution_count": 17,
   "metadata": {},
   "outputs": [
    {
     "data": {
      "text/plain": [
       "MultiIndex([( 'febrl3-rec-941-dup-3',  'febrl3-rec-941-dup-4'),\n",
       "            ('febrl3-rec-1217-dup-1', 'febrl3-rec-1217-dup-2'),\n",
       "            ('febrl3-rec-1725-dup-1', 'febrl3-rec-1725-dup-2'),\n",
       "            ('febrl3-rec-1648-dup-0', 'febrl3-rec-1648-dup-2'),\n",
       "            ('febrl3-rec-1490-dup-0',   'febrl3-rec-1490-org'),\n",
       "            ('febrl3-rec-1621-dup-0', 'febrl3-rec-1621-dup-3'),\n",
       "            ( 'febrl3-rec-438-dup-0',  'febrl3-rec-865-dup-0'),\n",
       "            ('febrl3-rec-1708-dup-1', 'febrl3-rec-1708-dup-3'),\n",
       "            ('febrl3-rec-1990-dup-4',   'febrl3-rec-1990-org'),\n",
       "            ( 'febrl3-rec-688-dup-0',  'febrl3-rec-688-dup-1'),\n",
       "            ('febrl3-rec-1418-dup-0', 'febrl3-rec-1418-dup-2'),\n",
       "            ('febrl3-rec-1694-dup-1', 'febrl3-rec-1694-dup-3'),\n",
       "            ( 'febrl3-rec-375-dup-1',  'febrl3-rec-375-dup-2')],\n",
       "           )"
      ]
     },
     "execution_count": 17,
     "metadata": {},
     "output_type": "execute_result"
    }
   ],
   "source": [
    "labeled_candidate_pairs"
   ]
  },
  {
   "cell_type": "code",
   "execution_count": 18,
   "metadata": {},
   "outputs": [
    {
     "name": "stdout",
     "output_type": "stream",
     "text": [
      "Returning missed_true_links\n"
     ]
    },
    {
     "data": {
      "text/html": [
       "<div>\n",
       "<style scoped>\n",
       "    .dataframe tbody tr th:only-of-type {\n",
       "        vertical-align: middle;\n",
       "    }\n",
       "\n",
       "    .dataframe tbody tr th {\n",
       "        vertical-align: top;\n",
       "    }\n",
       "\n",
       "    .dataframe thead th {\n",
       "        text-align: right;\n",
       "    }\n",
       "</style>\n",
       "<table border=\"1\" class=\"dataframe\">\n",
       "  <thead>\n",
       "    <tr style=\"text-align: right;\">\n",
       "      <th></th>\n",
       "      <th></th>\n",
       "      <th>address_1_1</th>\n",
       "      <th>address_1_2</th>\n",
       "      <th>address_2_1</th>\n",
       "      <th>address_2_2</th>\n",
       "      <th>date_of_birth_1</th>\n",
       "      <th>date_of_birth_2</th>\n",
       "      <th>given_name_1</th>\n",
       "      <th>given_name_2</th>\n",
       "      <th>postcode_1</th>\n",
       "      <th>postcode_2</th>\n",
       "      <th>soc_sec_id_1</th>\n",
       "      <th>soc_sec_id_2</th>\n",
       "      <th>state_1</th>\n",
       "      <th>state_2</th>\n",
       "      <th>street_number_1</th>\n",
       "      <th>street_number_2</th>\n",
       "      <th>suburb_1</th>\n",
       "      <th>suburb_2</th>\n",
       "      <th>surname_1</th>\n",
       "      <th>surname_2</th>\n",
       "    </tr>\n",
       "    <tr>\n",
       "      <th>rec_id_1</th>\n",
       "      <th>rec_id_2</th>\n",
       "      <th></th>\n",
       "      <th></th>\n",
       "      <th></th>\n",
       "      <th></th>\n",
       "      <th></th>\n",
       "      <th></th>\n",
       "      <th></th>\n",
       "      <th></th>\n",
       "      <th></th>\n",
       "      <th></th>\n",
       "      <th></th>\n",
       "      <th></th>\n",
       "      <th></th>\n",
       "      <th></th>\n",
       "      <th></th>\n",
       "      <th></th>\n",
       "      <th></th>\n",
       "      <th></th>\n",
       "      <th></th>\n",
       "      <th></th>\n",
       "    </tr>\n",
       "  </thead>\n",
       "  <tbody>\n",
       "    <tr>\n",
       "      <th>febrl3-rec-1534-dup-2</th>\n",
       "      <th>febrl3-rec-1534-dup-3</th>\n",
       "      <td>fawknerstreet</td>\n",
       "      <td>fawkner street</td>\n",
       "      <td>emerald agrigultural college</td>\n",
       "      <td>emerald agrigultural college</td>\n",
       "      <td>None</td>\n",
       "      <td>None</td>\n",
       "      <td>isabella</td>\n",
       "      <td>isabella</td>\n",
       "      <td>6154</td>\n",
       "      <td>6154</td>\n",
       "      <td>6097070</td>\n",
       "      <td>6097070</td>\n",
       "      <td>nsw</td>\n",
       "      <td>nsw</td>\n",
       "      <td>8</td>\n",
       "      <td>8</td>\n",
       "      <td>pottsvklle</td>\n",
       "      <td>pottsville</td>\n",
       "      <td>rundle</td>\n",
       "      <td>runudle</td>\n",
       "    </tr>\n",
       "  </tbody>\n",
       "</table>\n",
       "</div>"
      ],
      "text/plain": [
       "                                               address_1_1     address_1_2  \\\n",
       "rec_id_1              rec_id_2                                               \n",
       "febrl3-rec-1534-dup-2 febrl3-rec-1534-dup-3  fawknerstreet  fawkner street   \n",
       "\n",
       "                                                              address_2_1  \\\n",
       "rec_id_1              rec_id_2                                              \n",
       "febrl3-rec-1534-dup-2 febrl3-rec-1534-dup-3  emerald agrigultural college   \n",
       "\n",
       "                                                              address_2_2  \\\n",
       "rec_id_1              rec_id_2                                              \n",
       "febrl3-rec-1534-dup-2 febrl3-rec-1534-dup-3  emerald agrigultural college   \n",
       "\n",
       "                                            date_of_birth_1 date_of_birth_2  \\\n",
       "rec_id_1              rec_id_2                                                \n",
       "febrl3-rec-1534-dup-2 febrl3-rec-1534-dup-3            None            None   \n",
       "\n",
       "                                            given_name_1 given_name_2  \\\n",
       "rec_id_1              rec_id_2                                          \n",
       "febrl3-rec-1534-dup-2 febrl3-rec-1534-dup-3     isabella     isabella   \n",
       "\n",
       "                                            postcode_1 postcode_2  \\\n",
       "rec_id_1              rec_id_2                                      \n",
       "febrl3-rec-1534-dup-2 febrl3-rec-1534-dup-3       6154       6154   \n",
       "\n",
       "                                            soc_sec_id_1 soc_sec_id_2 state_1  \\\n",
       "rec_id_1              rec_id_2                                                  \n",
       "febrl3-rec-1534-dup-2 febrl3-rec-1534-dup-3      6097070      6097070     nsw   \n",
       "\n",
       "                                            state_2 street_number_1  \\\n",
       "rec_id_1              rec_id_2                                        \n",
       "febrl3-rec-1534-dup-2 febrl3-rec-1534-dup-3     nsw               8   \n",
       "\n",
       "                                            street_number_2    suburb_1  \\\n",
       "rec_id_1              rec_id_2                                            \n",
       "febrl3-rec-1534-dup-2 febrl3-rec-1534-dup-3               8  pottsvklle   \n",
       "\n",
       "                                               suburb_2 surname_1 surname_2  \n",
       "rec_id_1              rec_id_2                                               \n",
       "febrl3-rec-1534-dup-2 febrl3-rec-1534-dup-3  pottsville    rundle   runudle  "
      ]
     },
     "execution_count": 18,
     "metadata": {},
     "output_type": "execute_result"
    }
   ],
   "source": [
    "df = pd.DataFrame.from_dict(unlabeled_data, orient = \"index\")\n",
    "fields_list = df.columns.tolist()\n",
    "\n",
    "dmd.diagnose_link_errors(labeled_true_links, labeled_candidate_pairs, df, fields_list, \n",
    "                    similarity_df = None, error_type = \"missed_true_links\")"
   ]
  },
  {
   "cell_type": "markdown",
   "metadata": {},
   "source": [
    "## Assessing Classification on Labeled Data (Test Set)"
   ]
  },
  {
   "cell_type": "code",
   "execution_count": 19,
   "metadata": {},
   "outputs": [],
   "source": [
    "threshold = 0.5"
   ]
  },
  {
   "cell_type": "code",
   "execution_count": 20,
   "metadata": {},
   "outputs": [],
   "source": [
    "labeled_all_links = labeled_pair_ids_test.set_index([\"record id 1\", \"record id 2\"]).index"
   ]
  },
  {
   "cell_type": "code",
   "execution_count": 21,
   "metadata": {},
   "outputs": [
    {
     "data": {
      "text/html": [
       "<div>\n",
       "<style scoped>\n",
       "    .dataframe tbody tr th:only-of-type {\n",
       "        vertical-align: middle;\n",
       "    }\n",
       "\n",
       "    .dataframe tbody tr th {\n",
       "        vertical-align: top;\n",
       "    }\n",
       "\n",
       "    .dataframe thead th {\n",
       "        text-align: right;\n",
       "    }\n",
       "</style>\n",
       "<table border=\"1\" class=\"dataframe\">\n",
       "  <thead>\n",
       "    <tr style=\"text-align: right;\">\n",
       "      <th></th>\n",
       "      <th>record id 1</th>\n",
       "      <th>record id 2</th>\n",
       "      <th>label</th>\n",
       "      <th>score</th>\n",
       "      <th>predicted label</th>\n",
       "    </tr>\n",
       "  </thead>\n",
       "  <tbody>\n",
       "    <tr>\n",
       "      <th>20</th>\n",
       "      <td>febrl3-rec-434-org</td>\n",
       "      <td>febrl3-rec-1684-org</td>\n",
       "      <td>distinct</td>\n",
       "      <td>0.000007</td>\n",
       "      <td>distinct</td>\n",
       "    </tr>\n",
       "    <tr>\n",
       "      <th>79</th>\n",
       "      <td>febrl3-rec-1490-org</td>\n",
       "      <td>febrl3-rec-1490-dup-0</td>\n",
       "      <td>match</td>\n",
       "      <td>0.997316</td>\n",
       "      <td>match</td>\n",
       "    </tr>\n",
       "    <tr>\n",
       "      <th>3</th>\n",
       "      <td>febrl3-rec-1390-org</td>\n",
       "      <td>febrl3-rec-1029-dup-2</td>\n",
       "      <td>distinct</td>\n",
       "      <td>0.003180</td>\n",
       "      <td>distinct</td>\n",
       "    </tr>\n",
       "    <tr>\n",
       "      <th>45</th>\n",
       "      <td>febrl3-rec-1543-dup-0</td>\n",
       "      <td>febrl3-rec-638-dup-0</td>\n",
       "      <td>distinct</td>\n",
       "      <td>0.000193</td>\n",
       "      <td>distinct</td>\n",
       "    </tr>\n",
       "    <tr>\n",
       "      <th>89</th>\n",
       "      <td>febrl3-rec-1621-dup-3</td>\n",
       "      <td>febrl3-rec-1621-dup-0</td>\n",
       "      <td>match</td>\n",
       "      <td>0.998312</td>\n",
       "      <td>match</td>\n",
       "    </tr>\n",
       "  </tbody>\n",
       "</table>\n",
       "</div>"
      ],
      "text/plain": [
       "              record id 1            record id 2     label     score  \\\n",
       "20     febrl3-rec-434-org    febrl3-rec-1684-org  distinct  0.000007   \n",
       "79    febrl3-rec-1490-org  febrl3-rec-1490-dup-0     match  0.997316   \n",
       "3     febrl3-rec-1390-org  febrl3-rec-1029-dup-2  distinct  0.003180   \n",
       "45  febrl3-rec-1543-dup-0   febrl3-rec-638-dup-0  distinct  0.000193   \n",
       "89  febrl3-rec-1621-dup-3  febrl3-rec-1621-dup-0     match  0.998312   \n",
       "\n",
       "   predicted label  \n",
       "20        distinct  \n",
       "79           match  \n",
       "3         distinct  \n",
       "45        distinct  \n",
       "89           match  "
      ]
     },
     "execution_count": 21,
     "metadata": {},
     "output_type": "execute_result"
    }
   ],
   "source": [
    "candidates = dm_utils.convert_rl_to_dedupe_candidate_pair(labeled_all_links, unlabeled_data)\n",
    "candidate_scores = dedupe.core.scoreDuplicates(candidates, deduper.data_model, deduper.classifier, deduper.num_cores)\n",
    "labeled_pair_ids_test[\"score\"] = candidate_scores[\"score\"]\n",
    "labeled_pair_ids_test[\"predicted label\"] = labeled_pair_ids_test[\"score\"].apply(lambda x: \"match\" if x > threshold else \"distinct\")\n",
    "labeled_pair_ids_test.head()"
   ]
  },
  {
   "cell_type": "code",
   "execution_count": 22,
   "metadata": {},
   "outputs": [
    {
     "data": {
      "image/png": "[encoded data removed]",
      "text/plain": [
       "<Figure size 432x288 with 1 Axes>"
      ]
     },
     "metadata": {
      "needs_background": "light"
     },
     "output_type": "display_data"
    }
   ],
   "source": [
    "fig, ax = plt.subplots()\n",
    "labeled_pair_ids_test[\"score\"].hist(bins = 40, ax = ax)\n",
    "ax.set_xlabel(\"Score\")\n",
    "ax.set_ylabel(\"Frequency\")\n",
    "ax.set_title(\"Histogram of Scores on Test Set\")\n",
    "ax.axes.axvline(x = threshold, linestyle = \"--\", color = \"grey\", label = \"Threshold {:.1f}%\".format(threshold*100))\n",
    "ax.legend()\n",
    "plt.show()"
   ]
  },
  {
   "cell_type": "code",
   "execution_count": 23,
   "metadata": {},
   "outputs": [
    {
     "name": "stdout",
     "output_type": "stream",
     "text": [
      "Confusion Matrix\n",
      "[[13  0]\n",
      " [ 2 11]]\n",
      "Accuracy Score 92.3%\n"
     ]
    }
   ],
   "source": [
    "y_true = labeled_pair_ids_test[\"label\"]\n",
    "y_pred = labeled_pair_ids_test[\"predicted label\"]\n",
    "print(\"Confusion Matrix\\n{}\".format(confusion_matrix(y_true, y_pred, labels = [\"match\", \"distinct\"])))\n",
    "print(\"Accuracy Score {:.1f}%\".format(accuracy_score(y_true, y_pred)*100))"
   ]
  },
  {
   "cell_type": "code",
   "execution_count": null,
   "metadata": {},
   "outputs": [],
   "source": []
  }
 ],
 "metadata": {
  "kernelspec": {
   "display_name": "Python [conda env:data_matching] *",
   "language": "python",
   "name": "conda-env-data_matching-py"
  },
  "language_info": {
   "codemirror_mode": {
    "name": "ipython",
    "version": 3
   },
   "file_extension": ".py",
   "mimetype": "text/x-python",
   "name": "python",
   "nbconvert_exporter": "python",
   "pygments_lexer": "ipython3",
   "version": "3.8.2"
  }
 },
 "nbformat": 4,
 "nbformat_minor": 2
}
