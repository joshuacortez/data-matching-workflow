{
 "cells": [
  {
   "cell_type": "code",
   "execution_count": 1,
   "metadata": {},
   "outputs": [],
   "source": [
    "%load_ext autoreload\n",
    "%autoreload 2\n",
    "import sys\n",
    "# do this to be able to import the custom python scripts\n",
    "sys.path.insert(1, \"../../../python_scripts\")\n",
    "import os\n",
    "\n",
    "import pandas as pd\n",
    "import numpy as np\n",
    "import matplotlib.pyplot as plt\n",
    "import seaborn as sns\n",
    "%matplotlib inline\n",
    "\n",
    "import dedupe \n",
    "\n",
    "import dm_diagnostics as dmd\n",
    "import dm_utils\n",
    "import dm_plots\n",
    "import dm_file_checker\n",
    "from sklearn.metrics import confusion_matrix, accuracy_score\n",
    "\n",
    "import json"
   ]
  },
  {
   "cell_type": "markdown",
   "metadata": {},
   "source": [
    "## Get Appropriate Filepaths"
   ]
  },
  {
   "cell_type": "code",
   "execution_count": 2,
   "metadata": {},
   "outputs": [],
   "source": [
    "saved_files_path = \"../../../saved_files\"\n",
    "task_name = os.path.basename(os.getcwd())\n",
    "    \n",
    "# files to be read in\n",
    "is_data_source_deduped = dm_file_checker.check_is_data_source_deduped(task_name, saved_files_path)\n",
    "settings_filepath =  dm_file_checker.get_filepath(task_name, \"model_settings\", saved_files_path)\n",
    "labeled_data_filepath = dm_file_checker.get_filepath(task_name, \"labeled_data\", saved_files_path)\n",
    "blocks_filepath = dm_file_checker.get_filepath(task_name, \"blocks\", saved_files_path)\n",
    "\n",
    "# files to be written out\n",
    "mapped_records_filepath = dm_file_checker.get_filepath(task_name, \"mapped_records\", saved_files_path)\n",
    "model_weights_filepath = dm_file_checker.get_filepath(task_name, \"model_weights\", saved_files_path)\n",
    "labeled_pair_ids_filepath = dm_file_checker.get_filepath(task_name, \"labeled_pair_ids\", saved_files_path)"
   ]
  },
  {
   "cell_type": "markdown",
   "metadata": {},
   "source": [
    "## Setup: Reading in Unlabeled Data, Labeled Data, and Trained Model"
   ]
  },
  {
   "cell_type": "code",
   "execution_count": 3,
   "metadata": {},
   "outputs": [
    {
     "name": "stdout",
     "output_type": "stream",
     "text": [
      "Not using the canonicalized deduped dataset. Using the original preprocessed data.\n",
      "Numeric fields 1 are []\n",
      "Numeric fields 2 are []\n",
      "converting 94 empty string values of column date_of_birth to None\n",
      "converting 112 empty string values of column given_name to None\n",
      "converting 48 empty string values of column surname to None\n",
      "converting 158 empty string values of column street_number to None\n",
      "converting 98 empty string values of column address_1 to None\n",
      "converting 420 empty string values of column address_2 to None\n",
      "converting 55 empty string values of column suburb to None\n",
      "converting 0 empty string values of column postcode to None\n",
      "converting 50 empty string values of column state to None\n",
      "converting 0 empty string values of column soc_sec_id to None\n",
      "converting 263 empty string values of column date_of_birth to None\n",
      "converting 234 empty string values of column given_name to None\n",
      "converting 102 empty string values of column surname to None\n",
      "converting 287 empty string values of column street_number to None\n",
      "converting 220 empty string values of column address_1 to None\n",
      "converting 851 empty string values of column address_2 to None\n",
      "converting 106 empty string values of column suburb to None\n",
      "converting 0 empty string values of column postcode to None\n",
      "converting 107 empty string values of column state to None\n",
      "converting 0 empty string values of column soc_sec_id to None\n"
     ]
    }
   ],
   "source": [
    "if is_data_source_deduped:\n",
    "    unlabeled_data_1, unlabeled_data_2 = dm_utils.get_deduped_data_for_rl(task_name, saved_files_path)\n",
    "    print(\"Using canonicalized deduped dataset instead of the original preprocessed data.\")\n",
    "else:\n",
    "    unlabeled_data_1_filepath, unlabeled_data_2_filepath = dm_file_checker.get_proper_unlabeled_data_filepath(task_name, saved_files_path)\n",
    "    print(\"Not using the canonicalized deduped dataset. Using the original preprocessed data.\")\n",
    "    \n",
    "    numeric_fields_1, numeric_fields_2 = dm_file_checker.get_dataset_info(task_name, \"numeric_fields\", saved_files_path)\n",
    "    print(\"Numeric fields 1 are {}\".format(numeric_fields_1))\n",
    "    print(\"Numeric fields 2 are {}\".format(numeric_fields_2))\n",
    "    \n",
    "    unlabeled_data_1 = dm_utils.read_unlabeled_data_json(unlabeled_data_1_filepath, numeric_fields = numeric_fields_1)\n",
    "    unlabeled_data_2 = dm_utils.read_unlabeled_data_json(unlabeled_data_2_filepath, numeric_fields = numeric_fields_2)"
   ]
  },
  {
   "cell_type": "code",
   "execution_count": 4,
   "metadata": {},
   "outputs": [
    {
     "name": "stderr",
     "output_type": "stream",
     "text": [
      "INFO:dedupe.api:((LevenshteinSearchPredicate: (2, postcode), LevenshteinSearchPredicate: (2, soc_sec_id)), (SimplePredicate: (dayPredicate, date_of_birth), TfidfTextSearchPredicate: (0.2, address_1)), (SimplePredicate: (commonIntegerPredicate, address_2), SimplePredicate: (sortedAcronym, address_1)), (SimplePredicate: (commonIntegerPredicate, address_2), SimplePredicate: (commonTwoTokens, suburb)), (SimplePredicate: (commonThreeTokens, suburb), TfidfNGramSearchPredicate: (0.4, surname)), (SimplePredicate: (commonThreeTokens, address_2), SimplePredicate: (twoGramFingerprint, surname)))\n"
     ]
    }
   ],
   "source": [
    "# reading in trained model\n",
    "with open(settings_filepath, 'rb') as f:\n",
    "    linker = dedupe.StaticRecordLink(f)\n",
    "\n",
    "# reading in labeled data\n",
    "with open(labeled_data_filepath, \"r\") as json_file:\n",
    "    labeled_data = json.load(json_file)"
   ]
  },
  {
   "cell_type": "markdown",
   "metadata": {},
   "source": [
    "## Finding Record IDs of Labeled Data"
   ]
  },
  {
   "cell_type": "code",
   "execution_count": 5,
   "metadata": {},
   "outputs": [
    {
     "name": "stderr",
     "output_type": "stream",
     "text": [
      " 26%|██▌       | 16/61 [00:00<00:00, 150.40it/s]"
     ]
    },
    {
     "name": "stdout",
     "output_type": "stream",
     "text": [
      "Finding ids for distinct pairs\n"
     ]
    },
    {
     "name": "stderr",
     "output_type": "stream",
     "text": [
      "100%|██████████| 61/61 [00:00<00:00, 168.08it/s]\n",
      " 31%|███       | 24/78 [00:00<00:00, 235.03it/s]"
     ]
    },
    {
     "name": "stdout",
     "output_type": "stream",
     "text": [
      "Finding ids for match pairs\n"
     ]
    },
    {
     "name": "stderr",
     "output_type": "stream",
     "text": [
      "100%|██████████| 78/78 [00:00<00:00, 223.52it/s]\n"
     ]
    },
    {
     "data": {
      "text/html": [
       "<div>\n",
       "<style scoped>\n",
       "    .dataframe tbody tr th:only-of-type {\n",
       "        vertical-align: middle;\n",
       "    }\n",
       "\n",
       "    .dataframe tbody tr th {\n",
       "        vertical-align: top;\n",
       "    }\n",
       "\n",
       "    .dataframe thead th {\n",
       "        text-align: right;\n",
       "    }\n",
       "</style>\n",
       "<table border=\"1\" class=\"dataframe\">\n",
       "  <thead>\n",
       "    <tr style=\"text-align: right;\">\n",
       "      <th></th>\n",
       "      <th>record id 1</th>\n",
       "      <th>record id 2</th>\n",
       "      <th>label</th>\n",
       "    </tr>\n",
       "  </thead>\n",
       "  <tbody>\n",
       "    <tr>\n",
       "      <th>0</th>\n",
       "      <td>febrl4a-rec-4751-org</td>\n",
       "      <td>febrl4b-rec-1657-dup-0</td>\n",
       "      <td>distinct</td>\n",
       "    </tr>\n",
       "    <tr>\n",
       "      <th>1</th>\n",
       "      <td>febrl4a-rec-2727-org</td>\n",
       "      <td>febrl4b-rec-3637-dup-0</td>\n",
       "      <td>distinct</td>\n",
       "    </tr>\n",
       "    <tr>\n",
       "      <th>2</th>\n",
       "      <td>febrl4a-rec-1221-org</td>\n",
       "      <td>febrl4b-rec-4758-dup-0</td>\n",
       "      <td>distinct</td>\n",
       "    </tr>\n",
       "    <tr>\n",
       "      <th>3</th>\n",
       "      <td>febrl4a-rec-11-org</td>\n",
       "      <td>febrl4b-rec-3489-dup-0</td>\n",
       "      <td>distinct</td>\n",
       "    </tr>\n",
       "    <tr>\n",
       "      <th>4</th>\n",
       "      <td>febrl4a-rec-4607-org</td>\n",
       "      <td>febrl4b-rec-375-dup-0</td>\n",
       "      <td>distinct</td>\n",
       "    </tr>\n",
       "    <tr>\n",
       "      <th>...</th>\n",
       "      <td>...</td>\n",
       "      <td>...</td>\n",
       "      <td>...</td>\n",
       "    </tr>\n",
       "    <tr>\n",
       "      <th>134</th>\n",
       "      <td>febrl4a-rec-802-org</td>\n",
       "      <td>febrl4b-rec-802-dup-0</td>\n",
       "      <td>match</td>\n",
       "    </tr>\n",
       "    <tr>\n",
       "      <th>135</th>\n",
       "      <td>febrl4a-rec-3980-org</td>\n",
       "      <td>febrl4b-rec-3980-dup-0</td>\n",
       "      <td>match</td>\n",
       "    </tr>\n",
       "    <tr>\n",
       "      <th>136</th>\n",
       "      <td>febrl4a-rec-4242-org</td>\n",
       "      <td>febrl4b-rec-4242-dup-0</td>\n",
       "      <td>match</td>\n",
       "    </tr>\n",
       "    <tr>\n",
       "      <th>137</th>\n",
       "      <td>febrl4a-rec-22-org</td>\n",
       "      <td>febrl4b-rec-22-dup-0</td>\n",
       "      <td>match</td>\n",
       "    </tr>\n",
       "    <tr>\n",
       "      <th>138</th>\n",
       "      <td>febrl4a-rec-993-org</td>\n",
       "      <td>febrl4b-rec-993-dup-0</td>\n",
       "      <td>match</td>\n",
       "    </tr>\n",
       "  </tbody>\n",
       "</table>\n",
       "<p>139 rows × 3 columns</p>\n",
       "</div>"
      ],
      "text/plain": [
       "              record id 1             record id 2     label\n",
       "0    febrl4a-rec-4751-org  febrl4b-rec-1657-dup-0  distinct\n",
       "1    febrl4a-rec-2727-org  febrl4b-rec-3637-dup-0  distinct\n",
       "2    febrl4a-rec-1221-org  febrl4b-rec-4758-dup-0  distinct\n",
       "3      febrl4a-rec-11-org  febrl4b-rec-3489-dup-0  distinct\n",
       "4    febrl4a-rec-4607-org   febrl4b-rec-375-dup-0  distinct\n",
       "..                    ...                     ...       ...\n",
       "134   febrl4a-rec-802-org   febrl4b-rec-802-dup-0     match\n",
       "135  febrl4a-rec-3980-org  febrl4b-rec-3980-dup-0     match\n",
       "136  febrl4a-rec-4242-org  febrl4b-rec-4242-dup-0     match\n",
       "137    febrl4a-rec-22-org    febrl4b-rec-22-dup-0     match\n",
       "138   febrl4a-rec-993-org   febrl4b-rec-993-dup-0     match\n",
       "\n",
       "[139 rows x 3 columns]"
      ]
     },
     "execution_count": 5,
     "metadata": {},
     "output_type": "execute_result"
    }
   ],
   "source": [
    "labeled_pairs_df = dm_utils.find_ids_of_labeled_data_rl(labeled_data, unlabeled_data_1, unlabeled_data_2)\n",
    "labeled_pairs_df.to_csv(labeled_pair_ids_filepath, index = False, encoding = \"utf-8\")\n",
    "labeled_pairs_df"
   ]
  },
  {
   "cell_type": "markdown",
   "metadata": {},
   "source": [
    "## Predicates for Indexing/Blocking"
   ]
  },
  {
   "cell_type": "code",
   "execution_count": 6,
   "metadata": {},
   "outputs": [
    {
     "data": {
      "text/plain": [
       "((LevenshteinSearchPredicate: (2, postcode),\n",
       "  LevenshteinSearchPredicate: (2, soc_sec_id)),\n",
       " (SimplePredicate: (dayPredicate, date_of_birth),\n",
       "  TfidfTextSearchPredicate: (0.2, address_1)),\n",
       " (SimplePredicate: (commonIntegerPredicate, address_2),\n",
       "  SimplePredicate: (sortedAcronym, address_1)),\n",
       " (SimplePredicate: (commonIntegerPredicate, address_2),\n",
       "  SimplePredicate: (commonTwoTokens, suburb)),\n",
       " (SimplePredicate: (commonThreeTokens, suburb),\n",
       "  TfidfNGramSearchPredicate: (0.4, surname)),\n",
       " (SimplePredicate: (commonThreeTokens, address_2),\n",
       "  SimplePredicate: (twoGramFingerprint, surname)))"
      ]
     },
     "execution_count": 6,
     "metadata": {},
     "output_type": "execute_result"
    }
   ],
   "source": [
    "linker.predicates"
   ]
  },
  {
   "cell_type": "code",
   "execution_count": null,
   "metadata": {},
   "outputs": [],
   "source": []
  },
  {
   "cell_type": "markdown",
   "metadata": {},
   "source": [
    "## Model Weights"
   ]
  },
  {
   "cell_type": "code",
   "execution_count": 7,
   "metadata": {},
   "outputs": [
    {
     "data": {
      "text/html": [
       "<div>\n",
       "<style scoped>\n",
       "    .dataframe tbody tr th:only-of-type {\n",
       "        vertical-align: middle;\n",
       "    }\n",
       "\n",
       "    .dataframe tbody tr th {\n",
       "        vertical-align: top;\n",
       "    }\n",
       "\n",
       "    .dataframe thead th {\n",
       "        text-align: right;\n",
       "    }\n",
       "</style>\n",
       "<table border=\"1\" class=\"dataframe\">\n",
       "  <thead>\n",
       "    <tr style=\"text-align: right;\">\n",
       "      <th></th>\n",
       "      <th>variable</th>\n",
       "      <th>logistic_reg_weight</th>\n",
       "    </tr>\n",
       "  </thead>\n",
       "  <tbody>\n",
       "    <tr>\n",
       "      <th>0</th>\n",
       "      <td>(soc_sec_id: ShortString)</td>\n",
       "      <td>-5.463801</td>\n",
       "    </tr>\n",
       "    <tr>\n",
       "      <th>1</th>\n",
       "      <td>(postcode: ShortString)</td>\n",
       "      <td>-5.420141</td>\n",
       "    </tr>\n",
       "    <tr>\n",
       "      <th>2</th>\n",
       "      <td>(address_2: String)</td>\n",
       "      <td>-4.240071</td>\n",
       "    </tr>\n",
       "    <tr>\n",
       "      <th>3</th>\n",
       "      <td>(surname: String)</td>\n",
       "      <td>-3.246548</td>\n",
       "    </tr>\n",
       "    <tr>\n",
       "      <th>4</th>\n",
       "      <td>(state: ShortString)</td>\n",
       "      <td>-3.230737</td>\n",
       "    </tr>\n",
       "    <tr>\n",
       "      <th>5</th>\n",
       "      <td>(street_number: ShortString)</td>\n",
       "      <td>-2.699601</td>\n",
       "    </tr>\n",
       "    <tr>\n",
       "      <th>6</th>\n",
       "      <td>(given_name: String)</td>\n",
       "      <td>-2.185524</td>\n",
       "    </tr>\n",
       "    <tr>\n",
       "      <th>7</th>\n",
       "      <td>(address_1: String)</td>\n",
       "      <td>-1.471259</td>\n",
       "    </tr>\n",
       "    <tr>\n",
       "      <th>8</th>\n",
       "      <td>((state: ShortString): Not Missing)</td>\n",
       "      <td>-0.714482</td>\n",
       "    </tr>\n",
       "    <tr>\n",
       "      <th>9</th>\n",
       "      <td>(seconds: Dummy)</td>\n",
       "      <td>-0.369167</td>\n",
       "    </tr>\n",
       "    <tr>\n",
       "      <th>10</th>\n",
       "      <td>(months: Dummy)</td>\n",
       "      <td>-0.369167</td>\n",
       "    </tr>\n",
       "    <tr>\n",
       "      <th>11</th>\n",
       "      <td>(years: Dummy)</td>\n",
       "      <td>-0.369167</td>\n",
       "    </tr>\n",
       "    <tr>\n",
       "      <th>12</th>\n",
       "      <td>(seconds: Derived)</td>\n",
       "      <td>-0.369167</td>\n",
       "    </tr>\n",
       "    <tr>\n",
       "      <th>13</th>\n",
       "      <td>(months: Derived)</td>\n",
       "      <td>-0.369167</td>\n",
       "    </tr>\n",
       "    <tr>\n",
       "      <th>14</th>\n",
       "      <td>(years: Derived)</td>\n",
       "      <td>-0.369167</td>\n",
       "    </tr>\n",
       "    <tr>\n",
       "      <th>15</th>\n",
       "      <td>(full string: Derived)</td>\n",
       "      <td>-0.369167</td>\n",
       "    </tr>\n",
       "    <tr>\n",
       "      <th>16</th>\n",
       "      <td>(days: Derived)</td>\n",
       "      <td>-0.164862</td>\n",
       "    </tr>\n",
       "    <tr>\n",
       "      <th>17</th>\n",
       "      <td>(suburb: String)</td>\n",
       "      <td>0.700110</td>\n",
       "    </tr>\n",
       "    <tr>\n",
       "      <th>18</th>\n",
       "      <td>((given_name: String): Not Missing)</td>\n",
       "      <td>0.930913</td>\n",
       "    </tr>\n",
       "    <tr>\n",
       "      <th>19</th>\n",
       "      <td>((surname: String): Not Missing)</td>\n",
       "      <td>0.956606</td>\n",
       "    </tr>\n",
       "    <tr>\n",
       "      <th>20</th>\n",
       "      <td>(date_of_birth: Not Missing: Dummy)</td>\n",
       "      <td>2.015384</td>\n",
       "    </tr>\n",
       "    <tr>\n",
       "      <th>21</th>\n",
       "      <td>(days: Dummy)</td>\n",
       "      <td>2.015384</td>\n",
       "    </tr>\n",
       "    <tr>\n",
       "      <th>22</th>\n",
       "      <td>((suburb: String): Not Missing)</td>\n",
       "      <td>2.873748</td>\n",
       "    </tr>\n",
       "    <tr>\n",
       "      <th>23</th>\n",
       "      <td>((street_number: ShortString): Not Missing)</td>\n",
       "      <td>4.881197</td>\n",
       "    </tr>\n",
       "    <tr>\n",
       "      <th>24</th>\n",
       "      <td>((address_1: String): Not Missing)</td>\n",
       "      <td>4.950423</td>\n",
       "    </tr>\n",
       "    <tr>\n",
       "      <th>25</th>\n",
       "      <td>((address_2: String): Not Missing)</td>\n",
       "      <td>5.069703</td>\n",
       "    </tr>\n",
       "  </tbody>\n",
       "</table>\n",
       "</div>"
      ],
      "text/plain": [
       "                                       variable  logistic_reg_weight\n",
       "0                     (soc_sec_id: ShortString)            -5.463801\n",
       "1                       (postcode: ShortString)            -5.420141\n",
       "2                           (address_2: String)            -4.240071\n",
       "3                             (surname: String)            -3.246548\n",
       "4                          (state: ShortString)            -3.230737\n",
       "5                  (street_number: ShortString)            -2.699601\n",
       "6                          (given_name: String)            -2.185524\n",
       "7                           (address_1: String)            -1.471259\n",
       "8           ((state: ShortString): Not Missing)            -0.714482\n",
       "9                              (seconds: Dummy)            -0.369167\n",
       "10                              (months: Dummy)            -0.369167\n",
       "11                               (years: Dummy)            -0.369167\n",
       "12                           (seconds: Derived)            -0.369167\n",
       "13                            (months: Derived)            -0.369167\n",
       "14                             (years: Derived)            -0.369167\n",
       "15                       (full string: Derived)            -0.369167\n",
       "16                              (days: Derived)            -0.164862\n",
       "17                             (suburb: String)             0.700110\n",
       "18          ((given_name: String): Not Missing)             0.930913\n",
       "19             ((surname: String): Not Missing)             0.956606\n",
       "20          (date_of_birth: Not Missing: Dummy)             2.015384\n",
       "21                                (days: Dummy)             2.015384\n",
       "22              ((suburb: String): Not Missing)             2.873748\n",
       "23  ((street_number: ShortString): Not Missing)             4.881197\n",
       "24           ((address_1: String): Not Missing)             4.950423\n",
       "25           ((address_2: String): Not Missing)             5.069703"
      ]
     },
     "execution_count": 7,
     "metadata": {},
     "output_type": "execute_result"
    }
   ],
   "source": [
    "# checking model weights\n",
    "model_weights = dm_utils.get_model_weights(linker)\n",
    "model_weights.to_csv(model_weights_filepath, index = False, encoding = \"utf-8\")\n",
    "model_weights"
   ]
  },
  {
   "cell_type": "markdown",
   "metadata": {},
   "source": [
    "## Thresholding\n",
    "- Includes diagnostic plots to justify and explain the threshold"
   ]
  },
  {
   "cell_type": "code",
   "execution_count": 8,
   "metadata": {},
   "outputs": [
    {
     "name": "stdout",
     "output_type": "stream",
     "text": [
      "Maximum expected recall and precision\n",
      "recall: 99.96%\n",
      "precision: 99.94%\n",
      "With threshold: 52.13%\n",
      "CPU times: user 16.7 s, sys: 2.1 s, total: 18.8 s\n",
      "Wall time: 42.5 s\n"
     ]
    }
   ],
   "source": [
    "%%time\n",
    "# Find the threshold that will maximize a weighted average of our\n",
    "# precision and recall.  When we set the recall weight to 2, we are\n",
    "# saying we care twice as much about recall as we do precision.\n",
    "#\n",
    "# If we had more data, we would not pass in all the blocked data into\n",
    "# this function but a representative sample.\n",
    "blocked_data = dm_utils.read_linker_blocks(unlabeled_data_1, unlabeled_data_2, blocks_filepath)\n",
    "probs, threshold = dm_utils.get_linker_probs_and_threshold(linker, unlabeled_data_1, unlabeled_data_2, \n",
    "                                                           blocked_data = blocked_data,\n",
    "                                                           recall_weight=1)"
   ]
  },
  {
   "cell_type": "code",
   "execution_count": 9,
   "metadata": {},
   "outputs": [
    {
     "data": {
      "image/png": "[encoded data removed]",
      "text/plain": [
       "<Figure size 504x360 with 1 Axes>"
      ]
     },
     "metadata": {
      "needs_background": "light"
     },
     "output_type": "display_data"
    }
   ],
   "source": [
    "dm_plots.plot_prob_histogram(probs,threshold)"
   ]
  },
  {
   "cell_type": "code",
   "execution_count": 10,
   "metadata": {},
   "outputs": [
    {
     "data": {
      "image/png": "[encoded data removed]",
      "text/plain": [
       "<Figure size 504x360 with 1 Axes>"
      ]
     },
     "metadata": {
      "needs_background": "light"
     },
     "output_type": "display_data"
    },
    {
     "data": {
      "image/png": "[encoded data removed]",
      "text/plain": [
       "<Figure size 504x360 with 1 Axes>"
      ]
     },
     "metadata": {
      "needs_background": "light"
     },
     "output_type": "display_data"
    }
   ],
   "source": [
    "dm_plots.plot_threshold_finder_curves(probs,threshold,recall_weight = 1)"
   ]
  },
  {
   "cell_type": "markdown",
   "metadata": {},
   "source": [
    "## Clustering and Canonicalization"
   ]
  },
  {
   "cell_type": "code",
   "execution_count": 11,
   "metadata": {},
   "outputs": [
    {
     "name": "stderr",
     "output_type": "stream",
     "text": [
      "100%|██████████| 4933/4933 [00:00<00:00, 391628.21it/s]\n",
      "100%|██████████| 67/67 [00:00<00:00, 148529.79it/s]\n",
      "100%|██████████| 67/67 [00:00<00:00, 139049.17it/s]"
     ]
    },
    {
     "name": "stdout",
     "output_type": "stream",
     "text": [
      "Mapping linked pairs...\n",
      "Mapping unlinked records in dataset 1...\n",
      "Mapping unlinked records in dataset 2...\n",
      "CPU times: user 17.1 s, sys: 1.75 s, total: 18.8 s\n",
      "Wall time: 44.2 s\n"
     ]
    },
    {
     "name": "stderr",
     "output_type": "stream",
     "text": [
      "\n"
     ]
    }
   ],
   "source": [
    "%%time\n",
    "blocked_data = dm_utils.read_linker_blocks(unlabeled_data_1, unlabeled_data_2, blocks_filepath)\n",
    "mapped_records_df  = dm_utils.get_linked_ids(linker, unlabeled_data_1, unlabeled_data_2, threshold, blocked_data = blocked_data)\n",
    "\n",
    "mapped_records_df.to_csv(mapped_records_filepath, index = False, encoding = \"utf-8\")"
   ]
  },
  {
   "cell_type": "code",
   "execution_count": 12,
   "metadata": {
    "scrolled": true
   },
   "outputs": [
    {
     "data": {
      "image/png": "[encoded data removed]",
      "text/plain": [
       "<Figure size 432x288 with 1 Axes>"
      ]
     },
     "metadata": {
      "needs_background": "light"
     },
     "output_type": "display_data"
    }
   ],
   "source": [
    "mapped_records_df[\"confidence score\"].hist(bins = 40)\n",
    "plt.show()"
   ]
  },
  {
   "cell_type": "markdown",
   "metadata": {},
   "source": [
    "## Summary Report"
   ]
  },
  {
   "cell_type": "code",
   "execution_count": 13,
   "metadata": {},
   "outputs": [
    {
     "name": "stdout",
     "output_type": "stream",
     "text": [
      "Total Number of Records\n",
      "10,000\n",
      "Total Number of Unique Persons after Linking\n",
      "5,067\n",
      "\n",
      "Number of paired records\n",
      "4,933\n",
      "Number of solo records in dataset 1\n",
      "67\n",
      "Number of solo records in dataset 2\n",
      "67\n"
     ]
    }
   ],
   "source": [
    "n_total_records = len(unlabeled_data_1) + len(unlabeled_data_2)\n",
    "print(\"Total Number of Records\\n{:,}\".format(n_total_records))\n",
    "\n",
    "n_unique_records = mapped_records_df.shape[0]\n",
    "print(\"Total Number of Unique Persons after Linking\\n{:,}\".format(n_unique_records))\n",
    "\n",
    "print(\"\")\n",
    "n_duplicates = (mapped_records_df[\"link type\"] == \"dup\").sum()\n",
    "print(\"Number of paired records\\n{:,}\".format(n_duplicates))\n",
    "\n",
    "n_solo_records_1 = mapped_records_df.loc[mapped_records_df[\"link type\"] == \"solo\", \"record id 1\"].dropna().shape[0]\n",
    "print(\"Number of solo records in dataset 1\\n{:,}\".format(n_solo_records_1))\n",
    "\n",
    "n_solo_records_2 = mapped_records_df.loc[mapped_records_df[\"link type\"] == \"solo\", \"record id 2\"].dropna().shape[0]\n",
    "print(\"Number of solo records in dataset 2\\n{:,}\".format(n_solo_records_2))"
   ]
  },
  {
   "cell_type": "markdown",
   "metadata": {},
   "source": [
    "## Training Set Evaluation - Assessing Blocking on Training Data"
   ]
  },
  {
   "cell_type": "code",
   "execution_count": 14,
   "metadata": {},
   "outputs": [
    {
     "data": {
      "text/html": [
       "<div>\n",
       "<style scoped>\n",
       "    .dataframe tbody tr th:only-of-type {\n",
       "        vertical-align: middle;\n",
       "    }\n",
       "\n",
       "    .dataframe tbody tr th {\n",
       "        vertical-align: top;\n",
       "    }\n",
       "\n",
       "    .dataframe thead th {\n",
       "        text-align: right;\n",
       "    }\n",
       "</style>\n",
       "<table border=\"1\" class=\"dataframe\">\n",
       "  <thead>\n",
       "    <tr style=\"text-align: right;\">\n",
       "      <th></th>\n",
       "      <th>record id 1</th>\n",
       "      <th>record id 2</th>\n",
       "      <th>label</th>\n",
       "    </tr>\n",
       "  </thead>\n",
       "  <tbody>\n",
       "    <tr>\n",
       "      <th>0</th>\n",
       "      <td>febrl4a-rec-4751-org</td>\n",
       "      <td>febrl4b-rec-1657-dup-0</td>\n",
       "      <td>distinct</td>\n",
       "    </tr>\n",
       "    <tr>\n",
       "      <th>1</th>\n",
       "      <td>febrl4a-rec-2727-org</td>\n",
       "      <td>febrl4b-rec-3637-dup-0</td>\n",
       "      <td>distinct</td>\n",
       "    </tr>\n",
       "    <tr>\n",
       "      <th>2</th>\n",
       "      <td>febrl4a-rec-1221-org</td>\n",
       "      <td>febrl4b-rec-4758-dup-0</td>\n",
       "      <td>distinct</td>\n",
       "    </tr>\n",
       "    <tr>\n",
       "      <th>3</th>\n",
       "      <td>febrl4a-rec-11-org</td>\n",
       "      <td>febrl4b-rec-3489-dup-0</td>\n",
       "      <td>distinct</td>\n",
       "    </tr>\n",
       "    <tr>\n",
       "      <th>4</th>\n",
       "      <td>febrl4a-rec-4607-org</td>\n",
       "      <td>febrl4b-rec-375-dup-0</td>\n",
       "      <td>distinct</td>\n",
       "    </tr>\n",
       "  </tbody>\n",
       "</table>\n",
       "</div>"
      ],
      "text/plain": [
       "            record id 1             record id 2     label\n",
       "0  febrl4a-rec-4751-org  febrl4b-rec-1657-dup-0  distinct\n",
       "1  febrl4a-rec-2727-org  febrl4b-rec-3637-dup-0  distinct\n",
       "2  febrl4a-rec-1221-org  febrl4b-rec-4758-dup-0  distinct\n",
       "3    febrl4a-rec-11-org  febrl4b-rec-3489-dup-0  distinct\n",
       "4  febrl4a-rec-4607-org   febrl4b-rec-375-dup-0  distinct"
      ]
     },
     "execution_count": 14,
     "metadata": {},
     "output_type": "execute_result"
    }
   ],
   "source": [
    "labeled_pairs_df = pd.read_csv(labeled_pair_ids_filepath)\n",
    "labeled_pairs_df.head()"
   ]
  },
  {
   "cell_type": "code",
   "execution_count": 15,
   "metadata": {},
   "outputs": [],
   "source": [
    "true_links = labeled_pairs_df.loc[labeled_pairs_df[\"label\"] == \"match\",:]\\\n",
    "                                            .set_index([\"record id 1\", \"record id 2\"]).index"
   ]
  },
  {
   "cell_type": "code",
   "execution_count": 16,
   "metadata": {},
   "outputs": [],
   "source": [
    "labeled_rec_ids = labeled_pairs_df[\"record id 1\"].unique().tolist() + labeled_pairs_df[\"record id 2\"].unique().tolist()\n",
    "\n",
    "labeled_pairs_data_1 = {rec_id:unlabeled_data_1[rec_id] for rec_id in unlabeled_data_1.keys() if rec_id in labeled_rec_ids}\n",
    "labeled_pairs_data_2 = {rec_id:unlabeled_data_2[rec_id] for rec_id in unlabeled_data_2.keys() if rec_id in labeled_rec_ids}\n",
    "\n",
    "candidate_pairs = dm_utils.get_linker_candidate_pairs(linker, labeled_pairs_data_1, labeled_pairs_data_2)"
   ]
  },
  {
   "cell_type": "code",
   "execution_count": 17,
   "metadata": {},
   "outputs": [
    {
     "name": "stdout",
     "output_type": "stream",
     "text": [
      "Pairs Completeness Ratio\n",
      "100.00%\n",
      "Pairs Quality Ratio\n",
      "93.98%\n"
     ]
    }
   ],
   "source": [
    "dmd.diagnose_indexing(true_links, candidate_pairs)"
   ]
  },
  {
   "cell_type": "markdown",
   "metadata": {},
   "source": [
    "## Training Set Evaluation - Assessing Classification on Labeled Data"
   ]
  },
  {
   "cell_type": "code",
   "execution_count": 18,
   "metadata": {},
   "outputs": [],
   "source": [
    "threshold = 0.5"
   ]
  },
  {
   "cell_type": "code",
   "execution_count": 19,
   "metadata": {},
   "outputs": [],
   "source": [
    "labeled_all_links = labeled_pairs_df.set_index([\"record id 1\", \"record id 2\"]).index"
   ]
  },
  {
   "cell_type": "code",
   "execution_count": 20,
   "metadata": {},
   "outputs": [
    {
     "data": {
      "text/html": [
       "<div>\n",
       "<style scoped>\n",
       "    .dataframe tbody tr th:only-of-type {\n",
       "        vertical-align: middle;\n",
       "    }\n",
       "\n",
       "    .dataframe tbody tr th {\n",
       "        vertical-align: top;\n",
       "    }\n",
       "\n",
       "    .dataframe thead th {\n",
       "        text-align: right;\n",
       "    }\n",
       "</style>\n",
       "<table border=\"1\" class=\"dataframe\">\n",
       "  <thead>\n",
       "    <tr style=\"text-align: right;\">\n",
       "      <th></th>\n",
       "      <th>record id 1</th>\n",
       "      <th>record id 2</th>\n",
       "      <th>label</th>\n",
       "      <th>score</th>\n",
       "    </tr>\n",
       "  </thead>\n",
       "  <tbody>\n",
       "    <tr>\n",
       "      <th>0</th>\n",
       "      <td>febrl4a-rec-4751-org</td>\n",
       "      <td>febrl4b-rec-1657-dup-0</td>\n",
       "      <td>distinct</td>\n",
       "      <td>9.283632e-37</td>\n",
       "    </tr>\n",
       "    <tr>\n",
       "      <th>1</th>\n",
       "      <td>febrl4a-rec-2727-org</td>\n",
       "      <td>febrl4b-rec-3637-dup-0</td>\n",
       "      <td>distinct</td>\n",
       "      <td>5.236994e-19</td>\n",
       "    </tr>\n",
       "    <tr>\n",
       "      <th>2</th>\n",
       "      <td>febrl4a-rec-1221-org</td>\n",
       "      <td>febrl4b-rec-4758-dup-0</td>\n",
       "      <td>distinct</td>\n",
       "      <td>3.623224e-31</td>\n",
       "    </tr>\n",
       "    <tr>\n",
       "      <th>3</th>\n",
       "      <td>febrl4a-rec-11-org</td>\n",
       "      <td>febrl4b-rec-3489-dup-0</td>\n",
       "      <td>distinct</td>\n",
       "      <td>1.517275e-09</td>\n",
       "    </tr>\n",
       "    <tr>\n",
       "      <th>4</th>\n",
       "      <td>febrl4a-rec-4607-org</td>\n",
       "      <td>febrl4b-rec-375-dup-0</td>\n",
       "      <td>distinct</td>\n",
       "      <td>1.233242e-31</td>\n",
       "    </tr>\n",
       "  </tbody>\n",
       "</table>\n",
       "</div>"
      ],
      "text/plain": [
       "            record id 1             record id 2     label         score\n",
       "0  febrl4a-rec-4751-org  febrl4b-rec-1657-dup-0  distinct  9.283632e-37\n",
       "1  febrl4a-rec-2727-org  febrl4b-rec-3637-dup-0  distinct  5.236994e-19\n",
       "2  febrl4a-rec-1221-org  febrl4b-rec-4758-dup-0  distinct  3.623224e-31\n",
       "3    febrl4a-rec-11-org  febrl4b-rec-3489-dup-0  distinct  1.517275e-09\n",
       "4  febrl4a-rec-4607-org   febrl4b-rec-375-dup-0  distinct  1.233242e-31"
      ]
     },
     "execution_count": 20,
     "metadata": {},
     "output_type": "execute_result"
    }
   ],
   "source": [
    "candidates = dm_utils.convert_rl_to_linker_candidate_pair(labeled_all_links, unlabeled_data_1, unlabeled_data_2)\n",
    "\n",
    "candidate_scores = dedupe.core.scoreDuplicates(candidates, linker.data_model, linker.classifier, linker.num_cores)\n",
    "labeled_pairs_df[\"score\"] = candidate_scores[\"score\"]\n",
    "labeled_pairs_df.head()"
   ]
  },
  {
   "cell_type": "code",
   "execution_count": 21,
   "metadata": {},
   "outputs": [
    {
     "data": {
      "text/html": [
       "<div>\n",
       "<style scoped>\n",
       "    .dataframe tbody tr th:only-of-type {\n",
       "        vertical-align: middle;\n",
       "    }\n",
       "\n",
       "    .dataframe tbody tr th {\n",
       "        vertical-align: top;\n",
       "    }\n",
       "\n",
       "    .dataframe thead th {\n",
       "        text-align: right;\n",
       "    }\n",
       "</style>\n",
       "<table border=\"1\" class=\"dataframe\">\n",
       "  <thead>\n",
       "    <tr style=\"text-align: right;\">\n",
       "      <th></th>\n",
       "      <th>record id 1</th>\n",
       "      <th>record id 2</th>\n",
       "      <th>label</th>\n",
       "      <th>score</th>\n",
       "      <th>predicted label</th>\n",
       "    </tr>\n",
       "  </thead>\n",
       "  <tbody>\n",
       "    <tr>\n",
       "      <th>0</th>\n",
       "      <td>febrl4a-rec-4751-org</td>\n",
       "      <td>febrl4b-rec-1657-dup-0</td>\n",
       "      <td>distinct</td>\n",
       "      <td>9.283632e-37</td>\n",
       "      <td>distinct</td>\n",
       "    </tr>\n",
       "    <tr>\n",
       "      <th>1</th>\n",
       "      <td>febrl4a-rec-2727-org</td>\n",
       "      <td>febrl4b-rec-3637-dup-0</td>\n",
       "      <td>distinct</td>\n",
       "      <td>5.236994e-19</td>\n",
       "      <td>distinct</td>\n",
       "    </tr>\n",
       "    <tr>\n",
       "      <th>2</th>\n",
       "      <td>febrl4a-rec-1221-org</td>\n",
       "      <td>febrl4b-rec-4758-dup-0</td>\n",
       "      <td>distinct</td>\n",
       "      <td>3.623224e-31</td>\n",
       "      <td>distinct</td>\n",
       "    </tr>\n",
       "    <tr>\n",
       "      <th>3</th>\n",
       "      <td>febrl4a-rec-11-org</td>\n",
       "      <td>febrl4b-rec-3489-dup-0</td>\n",
       "      <td>distinct</td>\n",
       "      <td>1.517275e-09</td>\n",
       "      <td>distinct</td>\n",
       "    </tr>\n",
       "    <tr>\n",
       "      <th>4</th>\n",
       "      <td>febrl4a-rec-4607-org</td>\n",
       "      <td>febrl4b-rec-375-dup-0</td>\n",
       "      <td>distinct</td>\n",
       "      <td>1.233242e-31</td>\n",
       "      <td>distinct</td>\n",
       "    </tr>\n",
       "  </tbody>\n",
       "</table>\n",
       "</div>"
      ],
      "text/plain": [
       "            record id 1             record id 2     label         score  \\\n",
       "0  febrl4a-rec-4751-org  febrl4b-rec-1657-dup-0  distinct  9.283632e-37   \n",
       "1  febrl4a-rec-2727-org  febrl4b-rec-3637-dup-0  distinct  5.236994e-19   \n",
       "2  febrl4a-rec-1221-org  febrl4b-rec-4758-dup-0  distinct  3.623224e-31   \n",
       "3    febrl4a-rec-11-org  febrl4b-rec-3489-dup-0  distinct  1.517275e-09   \n",
       "4  febrl4a-rec-4607-org   febrl4b-rec-375-dup-0  distinct  1.233242e-31   \n",
       "\n",
       "  predicted label  \n",
       "0        distinct  \n",
       "1        distinct  \n",
       "2        distinct  \n",
       "3        distinct  \n",
       "4        distinct  "
      ]
     },
     "execution_count": 21,
     "metadata": {},
     "output_type": "execute_result"
    }
   ],
   "source": [
    "labeled_pairs_df[\"predicted label\"] = labeled_pairs_df[\"score\"].apply(lambda x: \"match\" if x > threshold else \"distinct\")\n",
    "labeled_pairs_df.head()"
   ]
  },
  {
   "cell_type": "code",
   "execution_count": 22,
   "metadata": {},
   "outputs": [
    {
     "data": {
      "image/png": "[encoded data removed]",
      "text/plain": [
       "<Figure size 432x288 with 1 Axes>"
      ]
     },
     "metadata": {
      "needs_background": "light"
     },
     "output_type": "display_data"
    }
   ],
   "source": [
    "labeled_pairs_df[\"score\"].hist(bins = 40)\n",
    "plt.xlabel(\"Score\")\n",
    "plt.ylabel(\"Frequency\")\n",
    "plt.title(\"Histogram of Scores on Training Set\")\n",
    "plt.show()"
   ]
  },
  {
   "cell_type": "code",
   "execution_count": 23,
   "metadata": {},
   "outputs": [
    {
     "name": "stdout",
     "output_type": "stream",
     "text": [
      "Confusion Matrix\n",
      "[[78  0]\n",
      " [ 0 61]]\n",
      "Accuracy Score 100.0%\n"
     ]
    }
   ],
   "source": [
    "y_true = labeled_pairs_df[\"label\"]\n",
    "y_pred = labeled_pairs_df[\"predicted label\"]\n",
    "print(\"Confusion Matrix\\n{}\".format(confusion_matrix(y_true, y_pred, labels = [\"match\", \"distinct\"])))\n",
    "print(\"Accuracy Score {:.1f}%\".format(accuracy_score(y_true, y_pred)*100))"
   ]
  },
  {
   "cell_type": "code",
   "execution_count": null,
   "metadata": {},
   "outputs": [],
   "source": []
  }
 ],
 "metadata": {
  "kernelspec": {
   "display_name": "Python [conda env:data_matching] *",
   "language": "python",
   "name": "conda-env-data_matching-py"
  },
  "language_info": {
   "codemirror_mode": {
    "name": "ipython",
    "version": 3
   },
   "file_extension": ".py",
   "mimetype": "text/x-python",
   "name": "python",
   "nbconvert_exporter": "python",
   "pygments_lexer": "ipython3",
   "version": "3.8.2"
  }
 },
 "nbformat": 4,
 "nbformat_minor": 2
}
