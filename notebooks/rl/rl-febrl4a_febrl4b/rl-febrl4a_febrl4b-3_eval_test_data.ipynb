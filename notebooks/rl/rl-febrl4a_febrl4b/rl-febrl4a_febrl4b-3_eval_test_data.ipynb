{
 "cells": [
  {
   "cell_type": "code",
   "execution_count": 1,
   "metadata": {},
   "outputs": [],
   "source": [
    "%load_ext autoreload\n",
    "%autoreload 2\n",
    "import sys\n",
    "# do this to be able to import the custom python scripts\n",
    "sys.path.insert(1, \"../../../python_scripts\")\n",
    "import os\n",
    "\n",
    "import recordlinkage as rl\n",
    "from recordlinkage import preprocessing\n",
    "from recordlinkage.datasets import load_febrl1, load_febrl2, load_febrl3, load_febrl4\n",
    "\n",
    "from sklearn.model_selection import train_test_split\n",
    "from sklearn.metrics import confusion_matrix, accuracy_score\n",
    "\n",
    "import dm_diagnostics as dmd\n",
    "import dm_utils\n",
    "import dm_file_checker\n",
    "\n",
    "from itertools import combinations\n",
    "\n",
    "import json\n",
    "\n",
    "import dedupe\n",
    "import pandas as pd\n",
    "import numpy as np\n",
    "import matplotlib.pyplot as plt\n",
    "import seaborn as sns\n",
    "%matplotlib inline\n",
    "\n",
    "import simplejson\n",
    "\n",
    "RANDOM_SEED = 1001"
   ]
  },
  {
   "cell_type": "markdown",
   "metadata": {},
   "source": [
    "## Get Appropriate Filepaths"
   ]
  },
  {
   "cell_type": "code",
   "execution_count": 2,
   "metadata": {},
   "outputs": [
    {
     "name": "stdout",
     "output_type": "stream",
     "text": [
      "Using recall value of 1.0\n"
     ]
    }
   ],
   "source": [
    "saved_files_path = \"../../../saved_files\"\n",
    "task_name = os.path.basename(os.getcwd())\n",
    "    \n",
    "# files to be read in\n",
    "is_data_source_deduped = dm_file_checker.check_is_data_source_deduped(task_name, saved_files_path)\n",
    "settings_filepath =  dm_file_checker.get_filepath(task_name, \"model_settings\", saved_files_path)\n",
    "labeled_pair_ids_filepath = dm_file_checker.get_filepath(task_name, \"labeled_pair_ids\", saved_files_path)\n",
    "\n",
    "# folders to be written out as output\n",
    "settings_filepath =  dm_file_checker.get_filepath(task_name, \"model_settings_test_split\", saved_files_path)\n",
    "labeled_data_filepath = dm_file_checker.get_filepath(task_name, \"labeled_data_test_split\", saved_files_path)\n",
    "RECALL_TRAIN_VAL = dm_file_checker.get_task_info(task_name, \"recall_train\", saved_files_path)\n",
    "print(\"Using recall value of {}\".format(RECALL_TRAIN_VAL))"
   ]
  },
  {
   "cell_type": "markdown",
   "metadata": {},
   "source": [
    "## Define parameters for model"
   ]
  },
  {
   "cell_type": "code",
   "execution_count": 3,
   "metadata": {},
   "outputs": [],
   "source": [
    "# default blocked_proportion is 50%\n",
    "BLOCKED_PROPORTION = 0.5\n",
    "# default sample size is 15000\n",
    "#SAMPLE_SIZE = 30_000\n",
    "SAMPLE_SIZE = 15_000"
   ]
  },
  {
   "cell_type": "markdown",
   "metadata": {},
   "source": [
    "## Setup: Reading in Unlabeled Data"
   ]
  },
  {
   "cell_type": "code",
   "execution_count": 4,
   "metadata": {},
   "outputs": [
    {
     "name": "stdout",
     "output_type": "stream",
     "text": [
      "Not using the canonicalized deduped dataset. Using the original preprocessed data.\n",
      "Numeric fields 1 are []\n",
      "Numeric fields 2 are []\n",
      "converting 94 empty string values of column date_of_birth to None\n",
      "converting 112 empty string values of column given_name to None\n",
      "converting 48 empty string values of column surname to None\n",
      "converting 158 empty string values of column street_number to None\n",
      "converting 98 empty string values of column address_1 to None\n",
      "converting 420 empty string values of column address_2 to None\n",
      "converting 55 empty string values of column suburb to None\n",
      "converting 0 empty string values of column postcode to None\n",
      "converting 50 empty string values of column state to None\n",
      "converting 0 empty string values of column soc_sec_id to None\n",
      "converting 263 empty string values of column date_of_birth to None\n",
      "converting 234 empty string values of column given_name to None\n",
      "converting 102 empty string values of column surname to None\n",
      "converting 287 empty string values of column street_number to None\n",
      "converting 220 empty string values of column address_1 to None\n",
      "converting 851 empty string values of column address_2 to None\n",
      "converting 106 empty string values of column suburb to None\n",
      "converting 0 empty string values of column postcode to None\n",
      "converting 107 empty string values of column state to None\n",
      "converting 0 empty string values of column soc_sec_id to None\n"
     ]
    }
   ],
   "source": [
    "if is_data_source_deduped:\n",
    "    unlabeled_data_1, unlabeled_data_2 = dm_utils.get_deduped_data_for_rl(task_name, saved_files_path)\n",
    "    print(\"Using canonicalized deduped dataset instead of the original preprocessed data.\")\n",
    "else:\n",
    "    unlabeled_data_1_filepath, unlabeled_data_2_filepath = dm_file_checker.get_proper_unlabeled_data_filepath(task_name, saved_files_path)\n",
    "    print(\"Not using the canonicalized deduped dataset. Using the original preprocessed data.\")\n",
    "    \n",
    "    numeric_fields_1, numeric_fields_2 = dm_file_checker.get_dataset_info(task_name, \"numeric_fields\", saved_files_path)\n",
    "    print(\"Numeric fields 1 are {}\".format(numeric_fields_1))\n",
    "    print(\"Numeric fields 2 are {}\".format(numeric_fields_2))\n",
    "    \n",
    "    unlabeled_data_1 = dm_utils.read_unlabeled_data_json(unlabeled_data_1_filepath, numeric_fields = numeric_fields_1)\n",
    "    unlabeled_data_2 = dm_utils.read_unlabeled_data_json(unlabeled_data_2_filepath, numeric_fields = numeric_fields_2)"
   ]
  },
  {
   "cell_type": "markdown",
   "metadata": {},
   "source": [
    "## Train Test Split of Labeled Data"
   ]
  },
  {
   "cell_type": "code",
   "execution_count": 5,
   "metadata": {},
   "outputs": [
    {
     "data": {
      "text/html": [
       "<div>\n",
       "<style scoped>\n",
       "    .dataframe tbody tr th:only-of-type {\n",
       "        vertical-align: middle;\n",
       "    }\n",
       "\n",
       "    .dataframe tbody tr th {\n",
       "        vertical-align: top;\n",
       "    }\n",
       "\n",
       "    .dataframe thead th {\n",
       "        text-align: right;\n",
       "    }\n",
       "</style>\n",
       "<table border=\"1\" class=\"dataframe\">\n",
       "  <thead>\n",
       "    <tr style=\"text-align: right;\">\n",
       "      <th></th>\n",
       "      <th>record id 1</th>\n",
       "      <th>record id 2</th>\n",
       "      <th>label</th>\n",
       "    </tr>\n",
       "  </thead>\n",
       "  <tbody>\n",
       "    <tr>\n",
       "      <th>0</th>\n",
       "      <td>febrl4a-rec-4751-org</td>\n",
       "      <td>febrl4b-rec-1657-dup-0</td>\n",
       "      <td>distinct</td>\n",
       "    </tr>\n",
       "    <tr>\n",
       "      <th>1</th>\n",
       "      <td>febrl4a-rec-2727-org</td>\n",
       "      <td>febrl4b-rec-3637-dup-0</td>\n",
       "      <td>distinct</td>\n",
       "    </tr>\n",
       "    <tr>\n",
       "      <th>2</th>\n",
       "      <td>febrl4a-rec-1221-org</td>\n",
       "      <td>febrl4b-rec-4758-dup-0</td>\n",
       "      <td>distinct</td>\n",
       "    </tr>\n",
       "    <tr>\n",
       "      <th>3</th>\n",
       "      <td>febrl4a-rec-11-org</td>\n",
       "      <td>febrl4b-rec-3489-dup-0</td>\n",
       "      <td>distinct</td>\n",
       "    </tr>\n",
       "    <tr>\n",
       "      <th>4</th>\n",
       "      <td>febrl4a-rec-4607-org</td>\n",
       "      <td>febrl4b-rec-375-dup-0</td>\n",
       "      <td>distinct</td>\n",
       "    </tr>\n",
       "  </tbody>\n",
       "</table>\n",
       "</div>"
      ],
      "text/plain": [
       "            record id 1             record id 2     label\n",
       "0  febrl4a-rec-4751-org  febrl4b-rec-1657-dup-0  distinct\n",
       "1  febrl4a-rec-2727-org  febrl4b-rec-3637-dup-0  distinct\n",
       "2  febrl4a-rec-1221-org  febrl4b-rec-4758-dup-0  distinct\n",
       "3    febrl4a-rec-11-org  febrl4b-rec-3489-dup-0  distinct\n",
       "4  febrl4a-rec-4607-org   febrl4b-rec-375-dup-0  distinct"
      ]
     },
     "execution_count": 5,
     "metadata": {},
     "output_type": "execute_result"
    }
   ],
   "source": [
    "labeled_pair_ids_df = pd.read_csv(labeled_pair_ids_filepath, dtype = str)\n",
    "labeled_pair_ids_df.head()"
   ]
  },
  {
   "cell_type": "code",
   "execution_count": 6,
   "metadata": {},
   "outputs": [
    {
     "name": "stdout",
     "output_type": "stream",
     "text": [
      "(111, 3) (28, 3)\n"
     ]
    }
   ],
   "source": [
    "#sampling based on random split (may not be advisable because of active learning's sampling methodology)\n",
    "labeled_pair_ids_train, labeled_pair_ids_test = train_test_split(labeled_pair_ids_df,\n",
    "                                                                 test_size = 0.2,  \n",
    "                                                                 random_state = RANDOM_SEED)\n",
    "labeled_pair_ids_train = labeled_pair_ids_train.copy()\n",
    "labeled_pair_ids_test = labeled_pair_ids_test.copy()\n",
    "print(labeled_pair_ids_train.shape, labeled_pair_ids_test.shape)"
   ]
  },
  {
   "cell_type": "code",
   "execution_count": 7,
   "metadata": {},
   "outputs": [],
   "source": [
    "dm_utils.write_training_set_from_pairs(labeled_pair_ids_train, labeled_data_filepath, unlabeled_data_1, unlabeled_data_2)"
   ]
  },
  {
   "cell_type": "markdown",
   "metadata": {},
   "source": [
    "## Retraining Model"
   ]
  },
  {
   "cell_type": "code",
   "execution_count": 8,
   "metadata": {},
   "outputs": [
    {
     "name": "stdout",
     "output_type": "stream",
     "text": [
      "Using the following fields for the model\n",
      "[{'field': 'street_number', 'type': 'ShortString', 'has missing': True}, {'field': 'postcode', 'type': 'ShortString'}, {'field': 'state', 'type': 'ShortString', 'has missing': True}, {'field': 'soc_sec_id', 'type': 'ShortString'}, {'field': 'given_name', 'type': 'String', 'has missing': True}, {'field': 'surname', 'type': 'String', 'has missing': True}, {'field': 'address_1', 'type': 'String', 'has missing': True}, {'field': 'address_2', 'type': 'String', 'has missing': True}, {'field': 'suburb', 'type': 'String', 'has missing': True}, {'field': 'date_of_birth', 'type': 'DateTime', 'has missing': True, 'fuzzy': False, 'yearfirst': True}]\n"
     ]
    }
   ],
   "source": [
    "\n",
    "fields = dm_file_checker.get_task_info(task_name, \"fields\", saved_files_path)\n",
    "print(\"Using the following fields for the model\")\n",
    "print(fields)\n",
    "\n",
    "linker = dedupe.RecordLink(fields, num_cores = 4)\n"
   ]
  },
  {
   "cell_type": "code",
   "execution_count": 9,
   "metadata": {},
   "outputs": [
    {
     "name": "stderr",
     "output_type": "stream",
     "text": [
      "INFO:dedupe.api:reading training from file\n"
     ]
    },
    {
     "name": "stdout",
     "output_type": "stream",
     "text": [
      "reading labeled examples from  ../../../saved_files/rl-febrl4a_febrl4b/test_split_output/labeled_data.json\n"
     ]
    },
    {
     "name": "stderr",
     "output_type": "stream",
     "text": [
      "INFO:dedupe.canopy_index:Removing stop word  s\n",
      "INFO:dedupe.canopy_index:Removing stop word et\n",
      "INFO:dedupe.canopy_index:Removing stop word re\n",
      "INFO:dedupe.canopy_index:Removing stop word st\n",
      "INFO:dedupe.canopy_index:Removing stop word ce\n",
      "INFO:dedupe.canopy_index:Removing stop word ee\n",
      "INFO:dedupe.canopy_index:Removing stop word tr\n",
      "INFO:dedupe.training:Final predicate set:\n",
      "INFO:dedupe.training:(SimplePredicate: (commonTwoTokens, address_2), TfidfNGramSearchPredicate: (0.8, address_1))\n",
      "INFO:dedupe.training:Final predicate set:\n",
      "INFO:dedupe.training:(LevenshteinSearchPredicate: (2, postcode), LevenshteinSearchPredicate: (2, soc_sec_id))\n",
      "INFO:dedupe.training:(SimplePredicate: (wholeFieldPredicate, date_of_birth), TfidfTextSearchPredicate: (0.2, address_1))\n",
      "INFO:dedupe.training:(SimplePredicate: (commonThreeTokens, suburb), TfidfNGramSearchPredicate: (0.4, postcode))\n",
      "INFO:dedupe.training:(LevenshteinSearchPredicate: (3, surname), SimplePredicate: (commonFourGram, street_number))\n",
      "INFO:dedupe.training:(SimplePredicate: (commonThreeTokens, address_2), SimplePredicate: (commonTwoTokens, suburb))\n"
     ]
    },
    {
     "name": "stdout",
     "output_type": "stream",
     "text": [
      "CPU times: user 6min 45s, sys: 2.81 s, total: 6min 48s\n",
      "Wall time: 11min 24s\n"
     ]
    }
   ],
   "source": [
    "%%time\n",
    "dm_utils.prepare_training_linker(linker, unlabeled_data_1, unlabeled_data_2,\n",
    "                                 labeled_data_filepath, \n",
    "                                  blocked_proportion = BLOCKED_PROPORTION, \n",
    "                                  sample_size = SAMPLE_SIZE)"
   ]
  },
  {
   "cell_type": "code",
   "execution_count": 10,
   "metadata": {},
   "outputs": [
    {
     "name": "stderr",
     "output_type": "stream",
     "text": [
      "INFO:rlr.crossvalidation:using cross validation to find optimum alpha...\n",
      "INFO:rlr.crossvalidation:optimum alpha: 0.000010, score 0.9463190556744966\n",
      "INFO:dedupe.training:Final predicate set:\n",
      "INFO:dedupe.training:(LevenshteinSearchPredicate: (2, postcode), LevenshteinSearchPredicate: (2, soc_sec_id))\n",
      "INFO:dedupe.training:(SimplePredicate: (wholeFieldPredicate, date_of_birth), TfidfTextSearchPredicate: (0.2, address_1))\n",
      "INFO:dedupe.training:(SimplePredicate: (commonThreeTokens, suburb), TfidfNGramSearchPredicate: (0.4, postcode))\n",
      "INFO:dedupe.training:(LevenshteinSearchPredicate: (3, surname), SimplePredicate: (commonFourGram, street_number))\n",
      "INFO:dedupe.training:(SimplePredicate: (commonThreeTokens, address_2), SimplePredicate: (commonTwoTokens, suburb))\n"
     ]
    },
    {
     "name": "stdout",
     "output_type": "stream",
     "text": [
      "CPU times: user 1min 32s, sys: 2.13 s, total: 1min 34s\n",
      "Wall time: 1min 46s\n"
     ]
    }
   ],
   "source": [
    "%%time\n",
    "# Using the examples we just labeled, train the deduper and learn blocking predicates\n",
    "linker.train(recall = RECALL_TRAIN_VAL)\n",
    "\n",
    "dm_utils.save_trained_linker(linker, labeled_data_filepath, settings_filepath)"
   ]
  },
  {
   "cell_type": "code",
   "execution_count": 11,
   "metadata": {},
   "outputs": [
    {
     "data": {
      "text/plain": [
       "((LevenshteinSearchPredicate: (2, postcode),\n",
       "  LevenshteinSearchPredicate: (2, soc_sec_id)),\n",
       " (SimplePredicate: (wholeFieldPredicate, date_of_birth),\n",
       "  TfidfTextSearchPredicate: (0.2, address_1)),\n",
       " (SimplePredicate: (commonThreeTokens, suburb),\n",
       "  TfidfNGramSearchPredicate: (0.4, postcode)),\n",
       " (LevenshteinSearchPredicate: (3, surname),\n",
       "  SimplePredicate: (commonFourGram, street_number)),\n",
       " (SimplePredicate: (commonThreeTokens, address_2),\n",
       "  SimplePredicate: (commonTwoTokens, suburb)))"
      ]
     },
     "execution_count": 11,
     "metadata": {},
     "output_type": "execute_result"
    }
   ],
   "source": [
    "linker.predicates"
   ]
  },
  {
   "cell_type": "markdown",
   "metadata": {},
   "source": [
    "## Model Weights"
   ]
  },
  {
   "cell_type": "code",
   "execution_count": 12,
   "metadata": {},
   "outputs": [
    {
     "data": {
      "text/html": [
       "<div>\n",
       "<style scoped>\n",
       "    .dataframe tbody tr th:only-of-type {\n",
       "        vertical-align: middle;\n",
       "    }\n",
       "\n",
       "    .dataframe tbody tr th {\n",
       "        vertical-align: top;\n",
       "    }\n",
       "\n",
       "    .dataframe thead th {\n",
       "        text-align: right;\n",
       "    }\n",
       "</style>\n",
       "<table border=\"1\" class=\"dataframe\">\n",
       "  <thead>\n",
       "    <tr style=\"text-align: right;\">\n",
       "      <th></th>\n",
       "      <th>variable</th>\n",
       "      <th>logistic_reg_weight</th>\n",
       "    </tr>\n",
       "  </thead>\n",
       "  <tbody>\n",
       "    <tr>\n",
       "      <th>0</th>\n",
       "      <td>(soc_sec_id: ShortString)</td>\n",
       "      <td>-4.725208</td>\n",
       "    </tr>\n",
       "    <tr>\n",
       "      <th>1</th>\n",
       "      <td>(postcode: ShortString)</td>\n",
       "      <td>-4.321838</td>\n",
       "    </tr>\n",
       "    <tr>\n",
       "      <th>2</th>\n",
       "      <td>(address_2: String)</td>\n",
       "      <td>-3.723047</td>\n",
       "    </tr>\n",
       "    <tr>\n",
       "      <th>3</th>\n",
       "      <td>(state: ShortString)</td>\n",
       "      <td>-3.506264</td>\n",
       "    </tr>\n",
       "    <tr>\n",
       "      <th>4</th>\n",
       "      <td>(surname: String)</td>\n",
       "      <td>-2.843488</td>\n",
       "    </tr>\n",
       "    <tr>\n",
       "      <th>5</th>\n",
       "      <td>(given_name: String)</td>\n",
       "      <td>-2.568998</td>\n",
       "    </tr>\n",
       "    <tr>\n",
       "      <th>6</th>\n",
       "      <td>(street_number: ShortString)</td>\n",
       "      <td>-1.531984</td>\n",
       "    </tr>\n",
       "    <tr>\n",
       "      <th>7</th>\n",
       "      <td>(address_1: String)</td>\n",
       "      <td>-1.217515</td>\n",
       "    </tr>\n",
       "    <tr>\n",
       "      <th>8</th>\n",
       "      <td>(days: Derived)</td>\n",
       "      <td>-0.158937</td>\n",
       "    </tr>\n",
       "    <tr>\n",
       "      <th>9</th>\n",
       "      <td>(seconds: Dummy)</td>\n",
       "      <td>-0.038223</td>\n",
       "    </tr>\n",
       "    <tr>\n",
       "      <th>10</th>\n",
       "      <td>(months: Dummy)</td>\n",
       "      <td>-0.038223</td>\n",
       "    </tr>\n",
       "    <tr>\n",
       "      <th>11</th>\n",
       "      <td>(years: Dummy)</td>\n",
       "      <td>-0.038223</td>\n",
       "    </tr>\n",
       "    <tr>\n",
       "      <th>12</th>\n",
       "      <td>(seconds: Derived)</td>\n",
       "      <td>-0.038223</td>\n",
       "    </tr>\n",
       "    <tr>\n",
       "      <th>13</th>\n",
       "      <td>(months: Derived)</td>\n",
       "      <td>-0.038223</td>\n",
       "    </tr>\n",
       "    <tr>\n",
       "      <th>14</th>\n",
       "      <td>(years: Derived)</td>\n",
       "      <td>-0.038223</td>\n",
       "    </tr>\n",
       "    <tr>\n",
       "      <th>15</th>\n",
       "      <td>(full string: Derived)</td>\n",
       "      <td>-0.038223</td>\n",
       "    </tr>\n",
       "    <tr>\n",
       "      <th>16</th>\n",
       "      <td>((surname: String): Not Missing)</td>\n",
       "      <td>0.098606</td>\n",
       "    </tr>\n",
       "    <tr>\n",
       "      <th>17</th>\n",
       "      <td>((state: ShortString): Not Missing)</td>\n",
       "      <td>0.125364</td>\n",
       "    </tr>\n",
       "    <tr>\n",
       "      <th>18</th>\n",
       "      <td>((given_name: String): Not Missing)</td>\n",
       "      <td>0.197218</td>\n",
       "    </tr>\n",
       "    <tr>\n",
       "      <th>19</th>\n",
       "      <td>(suburb: String)</td>\n",
       "      <td>1.252246</td>\n",
       "    </tr>\n",
       "    <tr>\n",
       "      <th>20</th>\n",
       "      <td>(date_of_birth: Not Missing: Dummy)</td>\n",
       "      <td>3.317431</td>\n",
       "    </tr>\n",
       "    <tr>\n",
       "      <th>21</th>\n",
       "      <td>(days: Dummy)</td>\n",
       "      <td>3.317431</td>\n",
       "    </tr>\n",
       "    <tr>\n",
       "      <th>22</th>\n",
       "      <td>((suburb: String): Not Missing)</td>\n",
       "      <td>3.397879</td>\n",
       "    </tr>\n",
       "    <tr>\n",
       "      <th>23</th>\n",
       "      <td>((address_2: String): Not Missing)</td>\n",
       "      <td>4.779850</td>\n",
       "    </tr>\n",
       "    <tr>\n",
       "      <th>24</th>\n",
       "      <td>((address_1: String): Not Missing)</td>\n",
       "      <td>5.261620</td>\n",
       "    </tr>\n",
       "    <tr>\n",
       "      <th>25</th>\n",
       "      <td>((street_number: ShortString): Not Missing)</td>\n",
       "      <td>5.279322</td>\n",
       "    </tr>\n",
       "  </tbody>\n",
       "</table>\n",
       "</div>"
      ],
      "text/plain": [
       "                                       variable  logistic_reg_weight\n",
       "0                     (soc_sec_id: ShortString)            -4.725208\n",
       "1                       (postcode: ShortString)            -4.321838\n",
       "2                           (address_2: String)            -3.723047\n",
       "3                          (state: ShortString)            -3.506264\n",
       "4                             (surname: String)            -2.843488\n",
       "5                          (given_name: String)            -2.568998\n",
       "6                  (street_number: ShortString)            -1.531984\n",
       "7                           (address_1: String)            -1.217515\n",
       "8                               (days: Derived)            -0.158937\n",
       "9                              (seconds: Dummy)            -0.038223\n",
       "10                              (months: Dummy)            -0.038223\n",
       "11                               (years: Dummy)            -0.038223\n",
       "12                           (seconds: Derived)            -0.038223\n",
       "13                            (months: Derived)            -0.038223\n",
       "14                             (years: Derived)            -0.038223\n",
       "15                       (full string: Derived)            -0.038223\n",
       "16             ((surname: String): Not Missing)             0.098606\n",
       "17          ((state: ShortString): Not Missing)             0.125364\n",
       "18          ((given_name: String): Not Missing)             0.197218\n",
       "19                             (suburb: String)             1.252246\n",
       "20          (date_of_birth: Not Missing: Dummy)             3.317431\n",
       "21                                (days: Dummy)             3.317431\n",
       "22              ((suburb: String): Not Missing)             3.397879\n",
       "23           ((address_2: String): Not Missing)             4.779850\n",
       "24           ((address_1: String): Not Missing)             5.261620\n",
       "25  ((street_number: ShortString): Not Missing)             5.279322"
      ]
     },
     "execution_count": 12,
     "metadata": {},
     "output_type": "execute_result"
    }
   ],
   "source": [
    "# checking model weights\n",
    "model_weights = dm_utils.get_model_weights(linker)\n",
    "model_weights"
   ]
  },
  {
   "cell_type": "markdown",
   "metadata": {},
   "source": [
    "## Assessing Blocking on Labeled Data (Test Set)"
   ]
  },
  {
   "cell_type": "code",
   "execution_count": 13,
   "metadata": {},
   "outputs": [],
   "source": [
    "true_links = labeled_pair_ids_test.loc[labeled_pair_ids_test[\"label\"] == \"match\",:]\\\n",
    "                                            .set_index([\"record id 1\", \"record id 2\"]).index"
   ]
  },
  {
   "cell_type": "code",
   "execution_count": 14,
   "metadata": {},
   "outputs": [],
   "source": [
    "labeled_rec_ids = labeled_pair_ids_test[\"record id 1\"].unique().tolist() + labeled_pair_ids_test[\"record id 2\"].unique().tolist()\n",
    "\n",
    "labeled_pairs_data_1 = {rec_id:unlabeled_data_1[rec_id] for rec_id in unlabeled_data_1.keys() if rec_id in labeled_rec_ids}\n",
    "labeled_pairs_data_2 = {rec_id:unlabeled_data_2[rec_id] for rec_id in unlabeled_data_2.keys() if rec_id in labeled_rec_ids}\n",
    "\n",
    "candidate_pairs = dm_utils.get_linker_candidate_pairs(linker, labeled_pairs_data_1, labeled_pairs_data_2)"
   ]
  },
  {
   "cell_type": "code",
   "execution_count": 15,
   "metadata": {},
   "outputs": [
    {
     "name": "stdout",
     "output_type": "stream",
     "text": [
      "Pairs Completeness Ratio\n",
      "92.86%\n",
      "Pairs Quality Ratio\n",
      "100.00%\n"
     ]
    }
   ],
   "source": [
    "dmd.diagnose_indexing(true_links, candidate_pairs)"
   ]
  },
  {
   "cell_type": "markdown",
   "metadata": {},
   "source": [
    "## Assessing Classification on Labeled Data (Test Set)"
   ]
  },
  {
   "cell_type": "code",
   "execution_count": 16,
   "metadata": {},
   "outputs": [],
   "source": [
    "threshold = 0.5"
   ]
  },
  {
   "cell_type": "code",
   "execution_count": 17,
   "metadata": {},
   "outputs": [],
   "source": [
    "labeled_all_links = labeled_pair_ids_test.set_index([\"record id 1\", \"record id 2\"]).index"
   ]
  },
  {
   "cell_type": "code",
   "execution_count": 18,
   "metadata": {},
   "outputs": [
    {
     "data": {
      "text/html": [
       "<div>\n",
       "<style scoped>\n",
       "    .dataframe tbody tr th:only-of-type {\n",
       "        vertical-align: middle;\n",
       "    }\n",
       "\n",
       "    .dataframe tbody tr th {\n",
       "        vertical-align: top;\n",
       "    }\n",
       "\n",
       "    .dataframe thead th {\n",
       "        text-align: right;\n",
       "    }\n",
       "</style>\n",
       "<table border=\"1\" class=\"dataframe\">\n",
       "  <thead>\n",
       "    <tr style=\"text-align: right;\">\n",
       "      <th></th>\n",
       "      <th>record id 1</th>\n",
       "      <th>record id 2</th>\n",
       "      <th>label</th>\n",
       "      <th>score</th>\n",
       "      <th>predicted label</th>\n",
       "    </tr>\n",
       "  </thead>\n",
       "  <tbody>\n",
       "    <tr>\n",
       "      <th>1</th>\n",
       "      <td>febrl4a-rec-2727-org</td>\n",
       "      <td>febrl4b-rec-3637-dup-0</td>\n",
       "      <td>distinct</td>\n",
       "      <td>6.927409e-17</td>\n",
       "      <td>distinct</td>\n",
       "    </tr>\n",
       "    <tr>\n",
       "      <th>55</th>\n",
       "      <td>febrl4a-rec-1455-org</td>\n",
       "      <td>febrl4b-rec-2430-dup-0</td>\n",
       "      <td>distinct</td>\n",
       "      <td>1.014005e-26</td>\n",
       "      <td>distinct</td>\n",
       "    </tr>\n",
       "    <tr>\n",
       "      <th>7</th>\n",
       "      <td>febrl4a-rec-4440-org</td>\n",
       "      <td>febrl4b-rec-4297-dup-0</td>\n",
       "      <td>distinct</td>\n",
       "      <td>3.217560e-14</td>\n",
       "      <td>distinct</td>\n",
       "    </tr>\n",
       "    <tr>\n",
       "      <th>3</th>\n",
       "      <td>febrl4a-rec-11-org</td>\n",
       "      <td>febrl4b-rec-3489-dup-0</td>\n",
       "      <td>distinct</td>\n",
       "      <td>9.103619e-11</td>\n",
       "      <td>distinct</td>\n",
       "    </tr>\n",
       "    <tr>\n",
       "      <th>11</th>\n",
       "      <td>febrl4a-rec-2181-org</td>\n",
       "      <td>febrl4b-rec-381-dup-0</td>\n",
       "      <td>distinct</td>\n",
       "      <td>8.112913e-05</td>\n",
       "      <td>distinct</td>\n",
       "    </tr>\n",
       "  </tbody>\n",
       "</table>\n",
       "</div>"
      ],
      "text/plain": [
       "             record id 1             record id 2     label         score  \\\n",
       "1   febrl4a-rec-2727-org  febrl4b-rec-3637-dup-0  distinct  6.927409e-17   \n",
       "55  febrl4a-rec-1455-org  febrl4b-rec-2430-dup-0  distinct  1.014005e-26   \n",
       "7   febrl4a-rec-4440-org  febrl4b-rec-4297-dup-0  distinct  3.217560e-14   \n",
       "3     febrl4a-rec-11-org  febrl4b-rec-3489-dup-0  distinct  9.103619e-11   \n",
       "11  febrl4a-rec-2181-org   febrl4b-rec-381-dup-0  distinct  8.112913e-05   \n",
       "\n",
       "   predicted label  \n",
       "1         distinct  \n",
       "55        distinct  \n",
       "7         distinct  \n",
       "3         distinct  \n",
       "11        distinct  "
      ]
     },
     "execution_count": 18,
     "metadata": {},
     "output_type": "execute_result"
    }
   ],
   "source": [
    "candidates = dm_utils.convert_rl_to_linker_candidate_pair(labeled_all_links, unlabeled_data_1, unlabeled_data_2)\n",
    "\n",
    "candidate_scores = dedupe.core.scoreDuplicates(candidates, linker.data_model, linker.classifier, linker.num_cores)\n",
    "labeled_pair_ids_test[\"score\"] = candidate_scores[\"score\"]\n",
    "labeled_pair_ids_test[\"predicted label\"] = labeled_pair_ids_test[\"score\"].apply(lambda x: \"match\" if x > threshold else \"distinct\")\n",
    "labeled_pair_ids_test.head()"
   ]
  },
  {
   "cell_type": "code",
   "execution_count": 19,
   "metadata": {},
   "outputs": [
    {
     "data": {
      "image/png": "[encoded data removed]",
      "text/plain": [
       "<Figure size 432x288 with 1 Axes>"
      ]
     },
     "metadata": {
      "needs_background": "light"
     },
     "output_type": "display_data"
    }
   ],
   "source": [
    "fig, ax = plt.subplots()\n",
    "labeled_pair_ids_test[\"score\"].hist(bins = 40, ax = ax)\n",
    "ax.set_xlabel(\"Score\")\n",
    "ax.set_ylabel(\"Frequency\")\n",
    "ax.set_title(\"Histogram of Scores on Test Set\")\n",
    "ax.axes.axvline(x = threshold, linestyle = \"--\", color = \"grey\", label = \"Threshold {:.1f}%\".format(threshold*100))\n",
    "ax.legend()\n",
    "plt.show()"
   ]
  },
  {
   "cell_type": "code",
   "execution_count": 20,
   "metadata": {},
   "outputs": [
    {
     "name": "stdout",
     "output_type": "stream",
     "text": [
      "Confusion Matrix\n",
      "[[14  0]\n",
      " [ 0 14]]\n",
      "Accuracy Score 100.0%\n"
     ]
    }
   ],
   "source": [
    "y_true = labeled_pair_ids_test[\"label\"]\n",
    "y_pred = labeled_pair_ids_test[\"predicted label\"]\n",
    "print(\"Confusion Matrix\\n{}\".format(confusion_matrix(y_true, y_pred, labels = [\"match\", \"distinct\"])))\n",
    "print(\"Accuracy Score {:.1f}%\".format(accuracy_score(y_true, y_pred)*100))"
   ]
  }
 ],
 "metadata": {
  "kernelspec": {
   "display_name": "Python [conda env:data_matching] *",
   "language": "python",
   "name": "conda-env-data_matching-py"
  },
  "language_info": {
   "codemirror_mode": {
    "name": "ipython",
    "version": 3
   },
   "file_extension": ".py",
   "mimetype": "text/x-python",
   "name": "python",
   "nbconvert_exporter": "python",
   "pygments_lexer": "ipython3",
   "version": "3.8.2"
  }
 },
 "nbformat": 4,
 "nbformat_minor": 2
}
